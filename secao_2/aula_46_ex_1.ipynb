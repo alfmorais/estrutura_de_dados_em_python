{
  "nbformat": 4,
  "nbformat_minor": 0,
  "metadata": {
    "colab": {
      "name": "Untitled6.ipynb",
      "provenance": [],
      "collapsed_sections": [],
      "authorship_tag": "ABX9TyP5f0DP+4Qx8pURtwSbW9E5",
      "include_colab_link": true
    },
    "kernelspec": {
      "name": "python3",
      "display_name": "Python 3"
    }
  },
  "cells": [
    {
      "cell_type": "markdown",
      "metadata": {
        "id": "view-in-github",
        "colab_type": "text"
      },
      "source": [
        "<a href=\"https://colab.research.google.com/github/alfmorais/estrutura_de_dados_em_python/blob/main/secao_2/aula_46_ex_1.ipynb\" target=\"_parent\"><img src=\"https://colab.research.google.com/assets/colab-badge.svg\" alt=\"Open In Colab\"/></a>"
      ]
    },
    {
      "cell_type": "code",
      "metadata": {
        "id": "RiY64vmIinq3"
      },
      "source": [
        "class aluno:\n",
        "  def __init__(self, nome, nota1, nota2):\n",
        "    self.nome = nome\n",
        "    self.nota1 = nota1\n",
        "    self.nota2 = nota2\n",
        "    self.media = 0.0\n",
        "\n",
        "  def media(self):\n",
        "    self.media = (self.nota1 + self.nota2) / 2\n",
        "    return self.media\n",
        "\n",
        "  def dados(self):\n",
        "    return f'O aluno {self.nome}, tem as respectivas notas {self.nota1} e {self.nota2}'\n",
        "\n",
        "  def aprovado(self):\n",
        "    if self.media >= 6.0:\n",
        "      print('aprovado')\n",
        "    else:\n",
        "      print('reprovado')"
      ],
      "execution_count": 1,
      "outputs": []
    },
    {
      "cell_type": "code",
      "metadata": {
        "id": "4hmaozcPjgI_"
      },
      "source": [
        "aluno_1 = aluno('Alfredo', 10, 8)"
      ],
      "execution_count": 2,
      "outputs": []
    },
    {
      "cell_type": "code",
      "metadata": {
        "colab": {
          "base_uri": "https://localhost:8080/"
        },
        "id": "63UUYI5hjqPF",
        "outputId": "8f2fc3b9-9c2b-4ea3-e7d1-170918c25ac4"
      },
      "source": [
        "print(aluno_1.dados)\n",
        "print(aluno_1.media)\n",
        "print(aluno_1.aprovado)"
      ],
      "execution_count": 5,
      "outputs": [
        {
          "output_type": "stream",
          "text": [
            "<bound method aluno.dados of <__main__.aluno object at 0x7f7f352f51d0>>\n",
            "0.0\n",
            "<bound method aluno.aprovado of <__main__.aluno object at 0x7f7f352f51d0>>\n"
          ],
          "name": "stdout"
        }
      ]
    }
  ]
}