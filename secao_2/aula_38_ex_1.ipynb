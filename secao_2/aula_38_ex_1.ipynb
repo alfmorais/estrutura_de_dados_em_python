{
  "nbformat": 4,
  "nbformat_minor": 0,
  "metadata": {
    "colab": {
      "name": "Untitled6.ipynb",
      "provenance": [],
      "collapsed_sections": [],
      "authorship_tag": "ABX9TyP9NoynY2QWmFG9b2B19oL7",
      "include_colab_link": true
    },
    "kernelspec": {
      "name": "python3",
      "display_name": "Python 3"
    }
  },
  "cells": [
    {
      "cell_type": "markdown",
      "metadata": {
        "id": "view-in-github",
        "colab_type": "text"
      },
      "source": [
        "<a href=\"https://colab.research.google.com/github/alfmorais/estrutura_de_dados_em_python/blob/main/secao_2/aula_35_ex_1.ipynb\" target=\"_parent\"><img src=\"https://colab.research.google.com/assets/colab-badge.svg\" alt=\"Open In Colab\"/></a>"
      ]
    },
    {
      "cell_type": "code",
      "metadata": {
        "id": "DM3_HYSRNnzO"
      },
      "source": [
        "alunos = {'Pedro': 8.0, \n",
        "          'Maria': 10.0, \n",
        "          'Amilton': 7.5}"
      ],
      "execution_count": 1,
      "outputs": []
    },
    {
      "cell_type": "code",
      "metadata": {
        "id": "qb7ixUdnOBQj"
      },
      "source": [
        "with open('texto.txt', 'w') as arquivo:\n",
        "  for aluno, notas in alunos.items():\n",
        "    arquivo.write(f'{aluno}: {notas} \\n')"
      ],
      "execution_count": 2,
      "outputs": []
    },
    {
      "cell_type": "code",
      "metadata": {
        "colab": {
          "base_uri": "https://localhost:8080/"
        },
        "id": "XJqPyS3uOL07",
        "outputId": "e610ffe0-8138-4687-ddef-ef1841200fd3"
      },
      "source": [
        "with open('texto.txt', 'r') as leitura_arquivo:\n",
        "  for linha in leitura_arquivo:\n",
        "    print(linha)"
      ],
      "execution_count": 3,
      "outputs": [
        {
          "output_type": "stream",
          "text": [
            "Pedro: 8.0 \n",
            "\n",
            "Maria: 10.0 \n",
            "\n",
            "Amilton: 7.5 \n",
            "\n"
          ],
          "name": "stdout"
        }
      ]
    }
  ]
}
