{
  "nbformat": 4,
  "nbformat_minor": 0,
  "metadata": {
    "colab": {
      "name": "Untitled106.ipynb",
      "provenance": [],
      "authorship_tag": "ABX9TyOW0mpEM3BKcRBAajhin5iV",
      "include_colab_link": true
    },
    "kernelspec": {
      "name": "python3",
      "display_name": "Python 3"
    },
    "language_info": {
      "name": "python"
    }
  },
  "cells": [
    {
      "cell_type": "markdown",
      "metadata": {
        "id": "view-in-github",
        "colab_type": "text"
      },
      "source": [
        "<a href=\"https://colab.research.google.com/github/alfmorais/estrutura_de_dados_em_python/blob/main/secao_5/aula_59.ipynb\" target=\"_parent\"><img src=\"https://colab.research.google.com/assets/colab-badge.svg\" alt=\"Open In Colab\"/></a>"
      ]
    },
    {
      "cell_type": "markdown",
      "metadata": {
        "id": "qYVeK_fTYoDM"
      },
      "source": [
        "Vetores Ordenados\n",
        "\n",
        "1. Ordem crescente\n",
        "2. Vantagem: agiliza o tempo de pesquisa\n",
        "\n",
        "Operações\n",
        "\n",
        "- Inserção: \n",
        "1. Pesquisa uma média de N/2 elementos (pesquisa linear) - Pior caso: N\n",
        "2. Mover elementos restantes (N/2 passos) - Pior caso: N\n",
        "3. Big-O-O(2n) = O(n)\n",
        "\n",
        "- Pesquisa Linear:\n",
        "1. A pesquisa termina quando o primeiro item maior que o valor da pesquisa é atingido. \n",
        "2. Como o vetor está ordenado, o algoritmo sabe que não há necessidade de procurar mais.\n",
        "3. Pior caso: se o elemento não estiver no vetor ou na última posição.\n",
        "4. Big-O-O(n)\n",
        "5. Visualização Online: https://www.cs.usfca.edu/~galles/visualization/Search.html\n",
        "\n",
        "- Exclusão: \n",
        "1. O algoritmo pode terminar na metade do caminho se não encontrar o item\n",
        "2. Pesquisa uma média de N/2 elementos (pesquisa linear)\n",
        "3. Pior caso: N\n",
        "4. Mover os elementos restantes (N/2 passos)\n",
        "5. Pior caso: N\n",
        "6. Big-O-O(2n) = O(n)"
      ]
    },
    {
      "cell_type": "code",
      "metadata": {
        "id": "L4SLFk_4YksW"
      },
      "source": [
        ""
      ],
      "execution_count": null,
      "outputs": []
    }
  ]
}
