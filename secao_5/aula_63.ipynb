{
  "nbformat": 4,
  "nbformat_minor": 0,
  "metadata": {
    "colab": {
      "name": "Untitled6.ipynb",
      "provenance": [],
      "collapsed_sections": [],
      "authorship_tag": "ABX9TyO1xP67yyFB/2arygNdBEds",
      "include_colab_link": true
    },
    "kernelspec": {
      "name": "python3",
      "display_name": "Python 3"
    }
  },
  "cells": [
    {
      "cell_type": "markdown",
      "metadata": {
        "id": "view-in-github",
        "colab_type": "text"
      },
      "source": [
        "<a href=\"https://colab.research.google.com/github/alfmorais/estrutura_de_dados_em_python/blob/main/secao_5/aula_63.ipynb\" target=\"_parent\"><img src=\"https://colab.research.google.com/assets/colab-badge.svg\" alt=\"Open In Colab\"/></a>"
      ]
    },
    {
      "cell_type": "markdown",
      "metadata": {
        "id": "gk0gzm_5Uc6S"
      },
      "source": [
        "Aula 63\n",
        "\n",
        "#Vetor Ordenados - Pesquisa Binária\n",
        "\n",
        "*   Números de 1 até 100\n",
        "*   Pesquisar / advinhar o número 47\n",
        "\n",
        "Passos desse algoritmo:\n",
        "\n",
        "PASSO 1: 1 até 100/2 = 50\n",
        "1.   50 é o número pesquisado? **Não**\n",
        "2.   47 é menor ou maior do que 50? **Menor**\n",
        "\n",
        "PASSO 2: 1 até 49/2 = 25\n",
        "1.   25 é o número pesquisado? **Não**\n",
        "2.   47 é menor ou maior do que 25? **Maior**\n",
        "\n",
        "PASSO 3: 26 até 49/2 = 38\n",
        "1.   38 é o número pesquisado? **Não**\n",
        "2.   47 é menor ou maior do que 38? **Maior**\n",
        "\n",
        "PASSO 4: 39 até 49/2 = 44\n",
        "1.   44 é o número pesquisado? **Não**\n",
        "2.   47 é menor ou maior do que 44? **Maior**\n",
        "\n",
        "PASSO 5: 45 até 49/2 = 47\n",
        "1.   47 é o número pesquisado? **Sim**\n",
        "\n",
        "**FIM DO ALGORITMO**\n",
        "<hr>\n",
        "\n",
        "\n",
        "\n",
        "\n",
        "\n",
        "\n",
        "\n",
        "\n"
      ]
    }
  ]
}