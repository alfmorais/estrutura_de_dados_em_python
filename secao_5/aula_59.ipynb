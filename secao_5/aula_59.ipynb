{
  "nbformat": 4,
  "nbformat_minor": 0,
  "metadata": {
    "colab": {
      "name": "Untitled106.ipynb",
      "provenance": [],
      "authorship_tag": "ABX9TyMEGq6+rK9Y8pdYGK8Ubetj",
      "include_colab_link": true
    },
    "kernelspec": {
      "name": "python3",
      "display_name": "Python 3"
    },
    "language_info": {
      "name": "python"
    }
  },
  "cells": [
    {
      "cell_type": "markdown",
      "metadata": {
        "id": "view-in-github",
        "colab_type": "text"
      },
      "source": [
        "<a href=\"https://colab.research.google.com/github/alfmorais/estrutura_de_dados_em_python/blob/main/secao_5/aula_59.ipynb\" target=\"_parent\"><img src=\"https://colab.research.google.com/assets/colab-badge.svg\" alt=\"Open In Colab\"/></a>"
      ]
    },
    {
      "cell_type": "markdown",
      "metadata": {
        "id": "qYVeK_fTYoDM"
      },
      "source": [
        "Vetores Ordenados\n",
        "\n",
        "1. Ordem crescente\n",
        "2. Vantagem: agiliza o tempo de pesquisa\n",
        "\n",
        "Operações\n",
        "\n",
        "- Inserção: \n",
        "1. Pesquisa uma média de N/2 elementos (pesquisa linear) - Pior caso: N\n",
        "2. Mover elementos restantes (N/2 passos) - Pior caso: N\n",
        "3. Big-O-O(2n) = O(n)\n",
        "\n",
        "- Pesquisa Linear:\n",
        "1. A pesquisa termina quando o primeiro item maior que o valor da pesquisa é atingido. \n",
        "2. Como o vetor está ordenado, o algoritmo sabe que não há necessidade de procurar mais.\n",
        "3. Pior caso: se o elemento não estiver no vetor ou na última posição.\n",
        "4. Big-O-O(n)\n",
        "5. Visualização Online: https://www.cs.usfca.edu/~galles/visualization/Search.html\n",
        "\n",
        "- Exclusão: \n",
        "1. O algoritmo pode terminar na metade do caminho se não encontrar o item\n",
        "2. Pesquisa uma média de N/2 elementos (pesquisa linear)\n",
        "3. Pior caso: N\n",
        "4. Mover os elementos restantes (N/2 passos)\n",
        "5. Pior caso: N\n",
        "6. Big-O-O(2n) = O(n)"
      ]
    },
    {
      "cell_type": "markdown",
      "metadata": {
        "id": "OnN88YtMcsz3"
      },
      "source": [
        "#Vetor Ordenado - Inserção"
      ]
    },
    {
      "cell_type": "code",
      "metadata": {
        "id": "L4SLFk_4YksW"
      },
      "source": [
        "import numpy as np"
      ],
      "execution_count": 1,
      "outputs": []
    },
    {
      "cell_type": "code",
      "metadata": {
        "id": "8DIQKb3HcsB0"
      },
      "source": [
        "class vetor_ordenado():\n",
        "\n",
        "  def __init__(self, capacidade):\n",
        "    self.capacidade = capacidade\n",
        "    self.ultima_posicao = -1\n",
        "    self.valores = np.empty(self.capacidade, dtype=int)\n",
        "\n",
        "  # O(n)\n",
        "  def imprime(self):\n",
        "    if self.ultima_posicao == -1:\n",
        "      print('O vetor está vazio')\n",
        "    else:\n",
        "      for i in range(self.ultima_posicao + 1):\n",
        "        print(i, '-', self.valores[i])\n",
        "  # O(n)\n",
        "  def insere(self, valor):\n",
        "    if self.ultima_posicao == self.capacidade - 1:\n",
        "      print('Capacidade Máxima Atingida')\n",
        "      return\n",
        "\n",
        "    posicao = 0\n",
        "    for i in range(self.ultima_posicao + 1):\n",
        "      posicao = i\n",
        "      if self.valores[i] > valor:\n",
        "        break\n",
        "      if i == self.ultima_posicao:\n",
        "        posicao = i + 1\n",
        "    \n",
        "    x = self.ultima_posicao\n",
        "    while x >= posicao:\n",
        "      self.valores[x + 1] = self.valores[x]\n",
        "      x -= 1\n",
        "\n",
        "    self.valores[posicao] = valor\n",
        "    self.ultima_posicao += 1"
      ],
      "execution_count": 2,
      "outputs": []
    },
    {
      "cell_type": "code",
      "metadata": {
        "colab": {
          "base_uri": "https://localhost:8080/"
        },
        "id": "aTpkRIGOgleU",
        "outputId": "b25f475d-4fed-4e13-840a-d66d821ddf12"
      },
      "source": [
        "vetor = vetor_ordenado(10)\n",
        "vetor.imprime()"
      ],
      "execution_count": 3,
      "outputs": [
        {
          "output_type": "stream",
          "text": [
            "O vetor está vazio\n"
          ],
          "name": "stdout"
        }
      ]
    },
    {
      "cell_type": "code",
      "metadata": {
        "colab": {
          "base_uri": "https://localhost:8080/"
        },
        "id": "VV5Kcowvg2B4",
        "outputId": "6339f796-a43c-4ae0-992c-ddbc59204e07"
      },
      "source": [
        "vetor.insere(6)\n",
        "vetor.imprime()"
      ],
      "execution_count": 4,
      "outputs": [
        {
          "output_type": "stream",
          "text": [
            "0 - 6\n"
          ],
          "name": "stdout"
        }
      ]
    },
    {
      "cell_type": "code",
      "metadata": {
        "colab": {
          "base_uri": "https://localhost:8080/"
        },
        "id": "368feH-gg_e7",
        "outputId": "a2df6b6c-37bb-41d1-cfa9-0db7bbb336db"
      },
      "source": [
        "vetor.insere(4)\n",
        "vetor.imprime()"
      ],
      "execution_count": 5,
      "outputs": [
        {
          "output_type": "stream",
          "text": [
            "0 - 4\n",
            "1 - 6\n"
          ],
          "name": "stdout"
        }
      ]
    },
    {
      "cell_type": "code",
      "metadata": {
        "colab": {
          "base_uri": "https://localhost:8080/"
        },
        "id": "JuDsFqWmhC9s",
        "outputId": "2e0bd0c3-0b52-4d50-e20d-e3307720f664"
      },
      "source": [
        "vetor.insere(3)\n",
        "vetor.imprime()"
      ],
      "execution_count": 6,
      "outputs": [
        {
          "output_type": "stream",
          "text": [
            "0 - 3\n",
            "1 - 4\n",
            "2 - 6\n"
          ],
          "name": "stdout"
        }
      ]
    },
    {
      "cell_type": "code",
      "metadata": {
        "colab": {
          "base_uri": "https://localhost:8080/"
        },
        "id": "1agCzlfehHkD",
        "outputId": "bac6533b-1b2d-44d6-d0fd-b8a3e0a3949c"
      },
      "source": [
        "vetor.insere(5)\n",
        "vetor.imprime()"
      ],
      "execution_count": 7,
      "outputs": [
        {
          "output_type": "stream",
          "text": [
            "0 - 3\n",
            "1 - 4\n",
            "2 - 5\n",
            "3 - 6\n"
          ],
          "name": "stdout"
        }
      ]
    },
    {
      "cell_type": "code",
      "metadata": {
        "colab": {
          "base_uri": "https://localhost:8080/"
        },
        "id": "l92kziAohMAc",
        "outputId": "1f17b502-0b02-423c-c3f6-5d175ca45b53"
      },
      "source": [
        "vetor.insere(1)\n",
        "vetor.imprime()"
      ],
      "execution_count": 8,
      "outputs": [
        {
          "output_type": "stream",
          "text": [
            "0 - 1\n",
            "1 - 3\n",
            "2 - 4\n",
            "3 - 5\n",
            "4 - 6\n"
          ],
          "name": "stdout"
        }
      ]
    },
    {
      "cell_type": "code",
      "metadata": {
        "colab": {
          "base_uri": "https://localhost:8080/"
        },
        "id": "OYUUl0OWhOIs",
        "outputId": "073264ed-5a26-4b23-963d-1b1aaa35da52"
      },
      "source": [
        "vetor.insere(8)\n",
        "vetor.imprime()"
      ],
      "execution_count": 9,
      "outputs": [
        {
          "output_type": "stream",
          "text": [
            "0 - 1\n",
            "1 - 3\n",
            "2 - 4\n",
            "3 - 5\n",
            "4 - 6\n",
            "5 - 8\n"
          ],
          "name": "stdout"
        }
      ]
    }
  ]
}