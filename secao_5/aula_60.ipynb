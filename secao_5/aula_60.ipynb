{
  "nbformat": 4,
  "nbformat_minor": 0,
  "metadata": {
    "colab": {
      "name": "Untitled106.ipynb",
      "provenance": [],
      "authorship_tag": "ABX9TyMCHXISmvL8J7I16oBpy9e8",
      "include_colab_link": true
    },
    "kernelspec": {
      "name": "python3",
      "display_name": "Python 3"
    },
    "language_info": {
      "name": "python"
    }
  },
  "cells": [
    {
      "cell_type": "markdown",
      "metadata": {
        "id": "view-in-github",
        "colab_type": "text"
      },
      "source": [
        "<a href=\"https://colab.research.google.com/github/alfmorais/estrutura_de_dados_em_python/blob/main/secao_5/aula_60.ipynb\" target=\"_parent\"><img src=\"https://colab.research.google.com/assets/colab-badge.svg\" alt=\"Open In Colab\"/></a>"
      ]
    },
    {
      "cell_type": "markdown",
      "metadata": {
        "id": "qYVeK_fTYoDM"
      },
      "source": [
        "Vetores Ordenados\n",
        "\n",
        "1. Ordem crescente\n",
        "2. Vantagem: agiliza o tempo de pesquisa\n",
        "\n",
        "Operações\n",
        "\n",
        "- Inserção: \n",
        "1. Pesquisa uma média de N/2 elementos (pesquisa linear) - Pior caso: N\n",
        "2. Mover elementos restantes (N/2 passos) - Pior caso: N\n",
        "3. Big-O-O(2n) = O(n)\n",
        "\n",
        "- Pesquisa Linear:\n",
        "1. A pesquisa termina quando o primeiro item maior que o valor da pesquisa é atingido. \n",
        "2. Como o vetor está ordenado, o algoritmo sabe que não há necessidade de procurar mais.\n",
        "3. Pior caso: se o elemento não estiver no vetor ou na última posição.\n",
        "4. Big-O-O(n)\n",
        "5. Visualização Online: https://www.cs.usfca.edu/~galles/visualization/Search.html\n",
        "\n",
        "- Exclusão: \n",
        "1. O algoritmo pode terminar na metade do caminho se não encontrar o item\n",
        "2. Pesquisa uma média de N/2 elementos (pesquisa linear)\n",
        "3. Pior caso: N\n",
        "4. Mover os elementos restantes (N/2 passos)\n",
        "5. Pior caso: N\n",
        "6. Big-O-O(2n) = O(n)"
      ]
    },
    {
      "cell_type": "markdown",
      "metadata": {
        "id": "OnN88YtMcsz3"
      },
      "source": [
        "#Vetor Ordenado - Inserção"
      ]
    },
    {
      "cell_type": "code",
      "metadata": {
        "id": "L4SLFk_4YksW"
      },
      "source": [
        "import numpy as np"
      ],
      "execution_count": 23,
      "outputs": []
    },
    {
      "cell_type": "code",
      "metadata": {
        "id": "8DIQKb3HcsB0"
      },
      "source": [
        "class vetor_ordenado():\n",
        "\n",
        "  def __init__(self, capacidade):\n",
        "    self.capacidade = capacidade\n",
        "    self.ultima_posicao = -1\n",
        "    self.valores = np.empty(self.capacidade, dtype=int)\n",
        "\n",
        "  # O(n)\n",
        "  def imprime(self):\n",
        "    if self.ultima_posicao == -1:\n",
        "      print('O vetor está vazio')\n",
        "    else:\n",
        "      for i in range(self.ultima_posicao + 1):\n",
        "        print(i, '-', self.valores[i])\n",
        "  # O(n)\n",
        "  def insere(self, valor):\n",
        "    if self.ultima_posicao == self.capacidade - 1:\n",
        "      print('Capacidade Máxima Atingida')\n",
        "      return\n",
        "\n",
        "    posicao = 0\n",
        "    for i in range(self.ultima_posicao + 1):\n",
        "      posicao = i\n",
        "      if self.valores[i] > valor:\n",
        "        break\n",
        "      if i == self.ultima_posicao:\n",
        "        posicao = i + 1\n",
        "    \n",
        "    x = self.ultima_posicao\n",
        "    while x >= posicao:\n",
        "      self.valores[x + 1] = self.valores[x]\n",
        "      x -= 1\n",
        "\n",
        "    self.valores[posicao] = valor\n",
        "    self.ultima_posicao += 1\n",
        "\n",
        "  # O(n)\n",
        "  def pesquisar(self, valor):\n",
        "    for i in range(self.ultima_posicao + 1):\n",
        "      if self.valores[i] > valor:\n",
        "        return -1\n",
        "      if self.valores[i] == valor:\n",
        "        return i\n",
        "      if i == self.ultima_posicao:\n",
        "        return -1\n"
      ],
      "execution_count": 24,
      "outputs": []
    },
    {
      "cell_type": "code",
      "metadata": {
        "colab": {
          "base_uri": "https://localhost:8080/"
        },
        "id": "aTpkRIGOgleU",
        "outputId": "9d96e0b3-1fb4-4cdd-ed71-85be34647c08"
      },
      "source": [
        "vetor = vetor_ordenado(10)\n",
        "vetor.imprime()"
      ],
      "execution_count": 25,
      "outputs": [
        {
          "output_type": "stream",
          "text": [
            "O vetor está vazio\n"
          ],
          "name": "stdout"
        }
      ]
    },
    {
      "cell_type": "code",
      "metadata": {
        "colab": {
          "base_uri": "https://localhost:8080/"
        },
        "id": "VV5Kcowvg2B4",
        "outputId": "c6f2cb9d-495b-4c7d-d4e2-3eab6bff388d"
      },
      "source": [
        "vetor.insere(6)\n",
        "vetor.imprime()"
      ],
      "execution_count": 26,
      "outputs": [
        {
          "output_type": "stream",
          "text": [
            "0 - 6\n"
          ],
          "name": "stdout"
        }
      ]
    },
    {
      "cell_type": "code",
      "metadata": {
        "colab": {
          "base_uri": "https://localhost:8080/"
        },
        "id": "368feH-gg_e7",
        "outputId": "31c6ec49-f71b-4eee-a394-baefddef2c57"
      },
      "source": [
        "vetor.insere(4)\n",
        "vetor.imprime()"
      ],
      "execution_count": 27,
      "outputs": [
        {
          "output_type": "stream",
          "text": [
            "0 - 4\n",
            "1 - 6\n"
          ],
          "name": "stdout"
        }
      ]
    },
    {
      "cell_type": "code",
      "metadata": {
        "colab": {
          "base_uri": "https://localhost:8080/"
        },
        "id": "JuDsFqWmhC9s",
        "outputId": "72575319-b5ec-47ac-8538-3ab261cd94d8"
      },
      "source": [
        "vetor.insere(3)\n",
        "vetor.imprime()"
      ],
      "execution_count": 28,
      "outputs": [
        {
          "output_type": "stream",
          "text": [
            "0 - 3\n",
            "1 - 4\n",
            "2 - 6\n"
          ],
          "name": "stdout"
        }
      ]
    },
    {
      "cell_type": "code",
      "metadata": {
        "colab": {
          "base_uri": "https://localhost:8080/"
        },
        "id": "1agCzlfehHkD",
        "outputId": "fc61aeaa-bbce-4e72-80b7-d4ef089c46cc"
      },
      "source": [
        "vetor.insere(5)\n",
        "vetor.imprime()"
      ],
      "execution_count": 29,
      "outputs": [
        {
          "output_type": "stream",
          "text": [
            "0 - 3\n",
            "1 - 4\n",
            "2 - 5\n",
            "3 - 6\n"
          ],
          "name": "stdout"
        }
      ]
    },
    {
      "cell_type": "code",
      "metadata": {
        "colab": {
          "base_uri": "https://localhost:8080/"
        },
        "id": "l92kziAohMAc",
        "outputId": "060de175-a23a-4898-a0a9-329457d7e905"
      },
      "source": [
        "vetor.insere(1)\n",
        "vetor.imprime()"
      ],
      "execution_count": 30,
      "outputs": [
        {
          "output_type": "stream",
          "text": [
            "0 - 1\n",
            "1 - 3\n",
            "2 - 4\n",
            "3 - 5\n",
            "4 - 6\n"
          ],
          "name": "stdout"
        }
      ]
    },
    {
      "cell_type": "code",
      "metadata": {
        "colab": {
          "base_uri": "https://localhost:8080/"
        },
        "id": "OYUUl0OWhOIs",
        "outputId": "16ab9bb0-2ad3-48b5-8723-9a95e954a68a"
      },
      "source": [
        "vetor.insere(8)\n",
        "vetor.imprime()"
      ],
      "execution_count": 31,
      "outputs": [
        {
          "output_type": "stream",
          "text": [
            "0 - 1\n",
            "1 - 3\n",
            "2 - 4\n",
            "3 - 5\n",
            "4 - 6\n",
            "5 - 8\n"
          ],
          "name": "stdout"
        }
      ]
    },
    {
      "cell_type": "code",
      "metadata": {
        "id": "mvh7UFgHOmLs",
        "outputId": "8c5f06b6-8fa1-4ab9-e256-6b4709bb21aa",
        "colab": {
          "base_uri": "https://localhost:8080/"
        }
      },
      "source": [
        "vetor.pesquisar(5)"
      ],
      "execution_count": 32,
      "outputs": [
        {
          "output_type": "execute_result",
          "data": {
            "text/plain": [
              "3"
            ]
          },
          "metadata": {
            "tags": []
          },
          "execution_count": 32
        }
      ]
    },
    {
      "cell_type": "code",
      "metadata": {
        "id": "EJB0q9_lPQyo",
        "outputId": "80644bc7-a8c1-42fc-d7e4-ff6b0d870ea6",
        "colab": {
          "base_uri": "https://localhost:8080/"
        }
      },
      "source": [
        "vetor.pesquisar(8)"
      ],
      "execution_count": 33,
      "outputs": [
        {
          "output_type": "execute_result",
          "data": {
            "text/plain": [
              "5"
            ]
          },
          "metadata": {
            "tags": []
          },
          "execution_count": 33
        }
      ]
    },
    {
      "cell_type": "code",
      "metadata": {
        "id": "mDL-RQ6lPV07",
        "outputId": "846ccc7e-d887-483a-a750-af6b68862461",
        "colab": {
          "base_uri": "https://localhost:8080/"
        }
      },
      "source": [
        "vetor.pesquisar(2)"
      ],
      "execution_count": 34,
      "outputs": [
        {
          "output_type": "execute_result",
          "data": {
            "text/plain": [
              "-1"
            ]
          },
          "metadata": {
            "tags": []
          },
          "execution_count": 34
        }
      ]
    },
    {
      "cell_type": "code",
      "metadata": {
        "id": "kdDEVKvpPe0s",
        "outputId": "57dde2fe-698d-47ae-c255-0b6d59492d8b",
        "colab": {
          "base_uri": "https://localhost:8080/"
        }
      },
      "source": [
        "vetor.pesquisar(9)"
      ],
      "execution_count": 35,
      "outputs": [
        {
          "output_type": "execute_result",
          "data": {
            "text/plain": [
              "-1"
            ]
          },
          "metadata": {
            "tags": []
          },
          "execution_count": 35
        }
      ]
    }
  ]
}