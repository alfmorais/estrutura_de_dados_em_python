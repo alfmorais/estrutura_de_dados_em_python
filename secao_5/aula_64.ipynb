{
  "nbformat": 4,
  "nbformat_minor": 0,
  "metadata": {
    "colab": {
      "name": "Untitled6.ipynb",
      "provenance": [],
      "collapsed_sections": [],
      "authorship_tag": "ABX9TyOZQBeJqW8Uxr3vcCJBT9oX",
      "include_colab_link": true
    },
    "kernelspec": {
      "name": "python3",
      "display_name": "Python 3"
    }
  },
  "cells": [
    {
      "cell_type": "markdown",
      "metadata": {
        "id": "view-in-github",
        "colab_type": "text"
      },
      "source": [
        "<a href=\"https://colab.research.google.com/github/alfmorais/estrutura_de_dados_em_python/blob/main/secao_5/aula_64.ipynb\" target=\"_parent\"><img src=\"https://colab.research.google.com/assets/colab-badge.svg\" alt=\"Open In Colab\"/></a>"
      ]
    },
    {
      "cell_type": "markdown",
      "metadata": {
        "id": "gk0gzm_5Uc6S"
      },
      "source": [
        "Aula 63\n",
        "\n",
        "#Vetor Ordenados - Pesquisa Binária\n",
        "\n",
        "*   Números de 1 até 100\n",
        "*   Pesquisar / advinhar o número 47\n",
        "\n",
        "Passos desse algoritmo:\n",
        "\n",
        "PASSO 1: 1 até 100/2 = 50\n",
        "1.   50 é o número pesquisado? **Não**\n",
        "2.   47 é menor ou maior do que 50? **Menor**\n",
        "\n",
        "PASSO 2: 1 até 49/2 = 25\n",
        "1.   25 é o número pesquisado? **Não**\n",
        "2.   47 é menor ou maior do que 25? **Maior**\n",
        "\n",
        "PASSO 3: 26 até 49/2 = 38\n",
        "1.   38 é o número pesquisado? **Não**\n",
        "2.   47 é menor ou maior do que 38? **Maior**\n",
        "\n",
        "PASSO 4: 39 até 49/2 = 44\n",
        "1.   44 é o número pesquisado? **Não**\n",
        "2.   47 é menor ou maior do que 44? **Maior**\n",
        "\n",
        "PASSO 5: 45 até 49/2 = 47\n",
        "1.   47 é o número pesquisado? **Sim**\n",
        "\n",
        "**FIM DO ALGORITMO**\n",
        "<hr>\n",
        "\n",
        "\n",
        "\n",
        "\n",
        "\n",
        "\n",
        "\n",
        "\n"
      ]
    },
    {
      "cell_type": "code",
      "metadata": {
        "id": "e2oYxX-HcKAh"
      },
      "source": [
        "import numpy as np"
      ],
      "execution_count": 1,
      "outputs": []
    },
    {
      "cell_type": "code",
      "metadata": {
        "id": "VzsJFZ6fcMAm"
      },
      "source": [
        "class VetorOrdenado:\n",
        "  \n",
        "  def __init__(self, capacidade):\n",
        "    self.capacidade = capacidade\n",
        "    self.ultima_posicao = -1\n",
        "    self.valores = np.empty(self.capacidade, dtype=float)\n",
        "\n",
        "  def imprime(self):\n",
        "    if self.ultima_posicao == -1:\n",
        "      print('O vetor está vazio')\n",
        "    else:\n",
        "      for i in range(self.ultima_posicao + 1):\n",
        "        print(i, ' - ', self.valores[i])\n",
        "\n",
        "  def insere(self, valor):\n",
        "    if self.ultima_posicao == self.capacidade - 1:\n",
        "      print('Capacidade atingida')\n",
        "      return\n",
        "    \n",
        "    posicao = 0\n",
        "    for i in range(self.ultima_posicao + 1):\n",
        "      posicao = i\n",
        "      if self.valores[i] > valor:\n",
        "        break\n",
        "      if i == self.ultima_posicao:\n",
        "        posicao = i + 1\n",
        "\n",
        "    x = self.ultima_posicao\n",
        "    while x >= posicao:\n",
        "      self.valores[x + 1] = self.valores[x]\n",
        "      x -= 1\n",
        "    \n",
        "    self.valores[posicao] = valor    \n",
        "    self.ultima_posicao += 1\n",
        "\n",
        "  def pesquisa_linear(self, valor):\n",
        "    for i in range(self.ultima_posicao + 1):\n",
        "      if self.valores[i] > valor:\n",
        "        return -1\n",
        "      if self.valores[i] == valor:\n",
        "        return i\n",
        "  \n",
        "  def pesquisa_binaria(self, valor):\n",
        "    limite_inferior = 0\n",
        "    limite_superior = self.ultima_posicao\n",
        "    \n",
        "    while True:\n",
        "      posicao_atual = int((limite_inferior + limite_superior) / 2)\n",
        "      if self.valores[posicao_atual] == valor:\n",
        "        return posicao_atual              \n",
        "      elif limite_inferior > limite_superior:\n",
        "        return -1\n",
        "      else:\n",
        "        if self.valores[posicao_atual] < valor:\n",
        "          limite_inferior = posicao_atual + 1\n",
        "        else:\n",
        "          limite_superior = posicao_atual - 1\n",
        "\n",
        "  def excluir(self, valor):\n",
        "    posicao = self.pesquisar(valor)\n",
        "    if posicao == -1:\n",
        "      return -1\n",
        "    else:\n",
        "      for i in range(posicao, self.ultima_posicao):\n",
        "        self.valores[i] = self.valores[i + 1]\n",
        "      \n",
        "      self.ultima_posicao -= 1"
      ],
      "execution_count": 2,
      "outputs": []
    },
    {
      "cell_type": "code",
      "metadata": {
        "colab": {
          "base_uri": "https://localhost:8080/"
        },
        "id": "hJbi5ycngJYw",
        "outputId": "b6779c80-f75d-40cf-e414-bf0ca45b478c"
      },
      "source": [
        "vetor = VetorOrdenado(10)\n",
        "vetor.insere(8)\n",
        "vetor.insere(9)\n",
        "vetor.insere(4)\n",
        "vetor.insere(1)\n",
        "vetor.insere(5)\n",
        "vetor.insere(7)\n",
        "vetor.insere(11)\n",
        "vetor.insere(13)\n",
        "vetor.insere(2)\n",
        "vetor.imprime()"
      ],
      "execution_count": 5,
      "outputs": [
        {
          "output_type": "stream",
          "text": [
            "0  -  1.0\n",
            "1  -  2.0\n",
            "2  -  4.0\n",
            "3  -  5.0\n",
            "4  -  7.0\n",
            "5  -  8.0\n",
            "6  -  9.0\n",
            "7  -  11.0\n",
            "8  -  13.0\n"
          ],
          "name": "stdout"
        }
      ]
    },
    {
      "cell_type": "code",
      "metadata": {
        "colab": {
          "base_uri": "https://localhost:8080/"
        },
        "id": "pfiPt66BBC-z",
        "outputId": "c6480528-38a7-479b-fe32-0b2f5d4203aa"
      },
      "source": [
        "vetor.pesquisa_binaria(7)"
      ],
      "execution_count": 6,
      "outputs": [
        {
          "output_type": "execute_result",
          "data": {
            "text/plain": [
              "4"
            ]
          },
          "metadata": {
            "tags": []
          },
          "execution_count": 6
        }
      ]
    },
    {
      "cell_type": "code",
      "metadata": {
        "colab": {
          "base_uri": "https://localhost:8080/"
        },
        "id": "Bf2t2KFjBGaZ",
        "outputId": "4f49f1fe-846b-44dd-8f66-17fe80b5a5eb"
      },
      "source": [
        "vetor.pesquisa_binaria(5)"
      ],
      "execution_count": 7,
      "outputs": [
        {
          "output_type": "execute_result",
          "data": {
            "text/plain": [
              "3"
            ]
          },
          "metadata": {
            "tags": []
          },
          "execution_count": 7
        }
      ]
    },
    {
      "cell_type": "code",
      "metadata": {
        "colab": {
          "base_uri": "https://localhost:8080/"
        },
        "id": "KcyIF1iGBJ-S",
        "outputId": "f5413898-276e-49ab-8f92-bdc31203b2c2"
      },
      "source": [
        "vetor.pesquisa_binaria(14)"
      ],
      "execution_count": 8,
      "outputs": [
        {
          "output_type": "execute_result",
          "data": {
            "text/plain": [
              "-1"
            ]
          },
          "metadata": {
            "tags": []
          },
          "execution_count": 8
        }
      ]
    }
  ]
}