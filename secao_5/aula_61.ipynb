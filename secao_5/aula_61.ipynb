{
  "nbformat": 4,
  "nbformat_minor": 0,
  "metadata": {
    "colab": {
      "name": "Untitled106.ipynb",
      "provenance": [],
      "authorship_tag": "ABX9TyP2pm8Tgw5q1TcbfUXUY243",
      "include_colab_link": true
    },
    "kernelspec": {
      "name": "python3",
      "display_name": "Python 3"
    },
    "language_info": {
      "name": "python"
    }
  },
  "cells": [
    {
      "cell_type": "markdown",
      "metadata": {
        "id": "view-in-github",
        "colab_type": "text"
      },
      "source": [
        "<a href=\"https://colab.research.google.com/github/alfmorais/estrutura_de_dados_em_python/blob/main/secao_5/aula_61.ipynb\" target=\"_parent\"><img src=\"https://colab.research.google.com/assets/colab-badge.svg\" alt=\"Open In Colab\"/></a>"
      ]
    },
    {
      "cell_type": "markdown",
      "metadata": {
        "id": "qYVeK_fTYoDM"
      },
      "source": [
        "Vetores Ordenados\n",
        "\n",
        "1. Ordem crescente\n",
        "2. Vantagem: agiliza o tempo de pesquisa\n",
        "\n",
        "Operações\n",
        "\n",
        "- Inserção: \n",
        "1. Pesquisa uma média de N/2 elementos (pesquisa linear) - Pior caso: N\n",
        "2. Mover elementos restantes (N/2 passos) - Pior caso: N\n",
        "3. Big-O-O(2n) = O(n)\n",
        "\n",
        "- Pesquisa Linear:\n",
        "1. A pesquisa termina quando o primeiro item maior que o valor da pesquisa é atingido. \n",
        "2. Como o vetor está ordenado, o algoritmo sabe que não há necessidade de procurar mais.\n",
        "3. Pior caso: se o elemento não estiver no vetor ou na última posição.\n",
        "4. Big-O-O(n)\n",
        "5. Visualização Online: https://www.cs.usfca.edu/~galles/visualization/Search.html\n",
        "\n",
        "- Exclusão: \n",
        "1. O algoritmo pode terminar na metade do caminho se não encontrar o item\n",
        "2. Pesquisa uma média de N/2 elementos (pesquisa linear)\n",
        "3. Pior caso: N\n",
        "4. Mover os elementos restantes (N/2 passos)\n",
        "5. Pior caso: N\n",
        "6. Big-O-O(2n) = O(n)"
      ]
    },
    {
      "cell_type": "markdown",
      "metadata": {
        "id": "OnN88YtMcsz3"
      },
      "source": [
        "#Vetor Ordenado - Inserção"
      ]
    },
    {
      "cell_type": "code",
      "metadata": {
        "id": "L4SLFk_4YksW"
      },
      "source": [
        "import numpy as np"
      ],
      "execution_count": 36,
      "outputs": []
    },
    {
      "cell_type": "code",
      "metadata": {
        "id": "8DIQKb3HcsB0"
      },
      "source": [
        "class vetor_ordenado():\n",
        "\n",
        "  def __init__(self, capacidade):\n",
        "    self.capacidade = capacidade\n",
        "    self.ultima_posicao = -1\n",
        "    self.valores = np.empty(self.capacidade, dtype=int)\n",
        "\n",
        "  # O(n)\n",
        "  def imprime(self):\n",
        "    if self.ultima_posicao == -1:\n",
        "      print('O vetor está vazio')\n",
        "    else:\n",
        "      for i in range(self.ultima_posicao + 1):\n",
        "        print(i, '-', self.valores[i])\n",
        "  # O(n)\n",
        "  def insere(self, valor):\n",
        "    if self.ultima_posicao == self.capacidade - 1:\n",
        "      print('Capacidade Máxima Atingida')\n",
        "      return\n",
        "\n",
        "    posicao = 0\n",
        "    for i in range(self.ultima_posicao + 1):\n",
        "      posicao = i\n",
        "      if self.valores[i] > valor:\n",
        "        break\n",
        "      if i == self.ultima_posicao:\n",
        "        posicao = i + 1\n",
        "    \n",
        "    x = self.ultima_posicao\n",
        "    while x >= posicao:\n",
        "      self.valores[x + 1] = self.valores[x]\n",
        "      x -= 1\n",
        "\n",
        "    self.valores[posicao] = valor\n",
        "    self.ultima_posicao += 1\n",
        "\n",
        "  # O(n)\n",
        "  def pesquisar(self, valor):\n",
        "    for i in range(self.ultima_posicao + 1):\n",
        "      if self.valores[i] > valor:\n",
        "        return -1\n",
        "      if self.valores[i] == valor:\n",
        "        return i\n",
        "      if i == self.ultima_posicao:\n",
        "        return -1\n",
        "\n",
        "  def excluir(self, valor):\n",
        "    posicao = self.pesquisar(valor)\n",
        "    if posicao == -1:\n",
        "      return -1\n",
        "    else:\n",
        "      for i in range(posicao, self.ultima_posicao):\n",
        "        self.valores[i] = self.valores[i + 1]\n",
        "\n",
        "      self.ultima_posicao -= 1\n"
      ],
      "execution_count": 37,
      "outputs": []
    },
    {
      "cell_type": "code",
      "metadata": {
        "colab": {
          "base_uri": "https://localhost:8080/"
        },
        "id": "aTpkRIGOgleU",
        "outputId": "0ce823b1-df7e-417a-97b4-aa887e93873a"
      },
      "source": [
        "vetor = vetor_ordenado(10)\n",
        "vetor.imprime()"
      ],
      "execution_count": 38,
      "outputs": [
        {
          "output_type": "stream",
          "text": [
            "O vetor está vazio\n"
          ],
          "name": "stdout"
        }
      ]
    },
    {
      "cell_type": "code",
      "metadata": {
        "colab": {
          "base_uri": "https://localhost:8080/"
        },
        "id": "VV5Kcowvg2B4",
        "outputId": "65a5c915-5f32-47ae-9834-ea6f9c99b84c"
      },
      "source": [
        "vetor.insere(6)\n",
        "vetor.imprime()"
      ],
      "execution_count": 39,
      "outputs": [
        {
          "output_type": "stream",
          "text": [
            "0 - 6\n"
          ],
          "name": "stdout"
        }
      ]
    },
    {
      "cell_type": "code",
      "metadata": {
        "colab": {
          "base_uri": "https://localhost:8080/"
        },
        "id": "368feH-gg_e7",
        "outputId": "0df9c95e-f49c-4bf4-c560-1ec9abf940bb"
      },
      "source": [
        "vetor.insere(4)\n",
        "vetor.imprime()"
      ],
      "execution_count": 40,
      "outputs": [
        {
          "output_type": "stream",
          "text": [
            "0 - 4\n",
            "1 - 6\n"
          ],
          "name": "stdout"
        }
      ]
    },
    {
      "cell_type": "code",
      "metadata": {
        "colab": {
          "base_uri": "https://localhost:8080/"
        },
        "id": "JuDsFqWmhC9s",
        "outputId": "22831029-4351-42d4-b628-418a1434e54f"
      },
      "source": [
        "vetor.insere(3)\n",
        "vetor.imprime()"
      ],
      "execution_count": 41,
      "outputs": [
        {
          "output_type": "stream",
          "text": [
            "0 - 3\n",
            "1 - 4\n",
            "2 - 6\n"
          ],
          "name": "stdout"
        }
      ]
    },
    {
      "cell_type": "code",
      "metadata": {
        "colab": {
          "base_uri": "https://localhost:8080/"
        },
        "id": "1agCzlfehHkD",
        "outputId": "fdf2bd32-56c8-4193-c7b2-5dc9a65f050c"
      },
      "source": [
        "vetor.insere(5)\n",
        "vetor.imprime()"
      ],
      "execution_count": 42,
      "outputs": [
        {
          "output_type": "stream",
          "text": [
            "0 - 3\n",
            "1 - 4\n",
            "2 - 5\n",
            "3 - 6\n"
          ],
          "name": "stdout"
        }
      ]
    },
    {
      "cell_type": "code",
      "metadata": {
        "colab": {
          "base_uri": "https://localhost:8080/"
        },
        "id": "l92kziAohMAc",
        "outputId": "ec5ab495-b87c-4d22-e7dd-dfe1fa565f6f"
      },
      "source": [
        "vetor.insere(1)\n",
        "vetor.imprime()"
      ],
      "execution_count": 43,
      "outputs": [
        {
          "output_type": "stream",
          "text": [
            "0 - 1\n",
            "1 - 3\n",
            "2 - 4\n",
            "3 - 5\n",
            "4 - 6\n"
          ],
          "name": "stdout"
        }
      ]
    },
    {
      "cell_type": "code",
      "metadata": {
        "colab": {
          "base_uri": "https://localhost:8080/"
        },
        "id": "OYUUl0OWhOIs",
        "outputId": "2c55fb26-8dd0-42c2-9f63-28b8568f1c6b"
      },
      "source": [
        "vetor.insere(8)\n",
        "vetor.imprime()"
      ],
      "execution_count": 44,
      "outputs": [
        {
          "output_type": "stream",
          "text": [
            "0 - 1\n",
            "1 - 3\n",
            "2 - 4\n",
            "3 - 5\n",
            "4 - 6\n",
            "5 - 8\n"
          ],
          "name": "stdout"
        }
      ]
    },
    {
      "cell_type": "code",
      "metadata": {
        "colab": {
          "base_uri": "https://localhost:8080/"
        },
        "id": "mvh7UFgHOmLs",
        "outputId": "3e2be85e-b9c7-4c0d-b155-b34dc52577c3"
      },
      "source": [
        "vetor.pesquisar(5)"
      ],
      "execution_count": 45,
      "outputs": [
        {
          "output_type": "execute_result",
          "data": {
            "text/plain": [
              "3"
            ]
          },
          "metadata": {
            "tags": []
          },
          "execution_count": 45
        }
      ]
    },
    {
      "cell_type": "code",
      "metadata": {
        "colab": {
          "base_uri": "https://localhost:8080/"
        },
        "id": "EJB0q9_lPQyo",
        "outputId": "9e5964b5-f589-4d3f-c052-e76f2049fa6b"
      },
      "source": [
        "vetor.pesquisar(8)"
      ],
      "execution_count": 46,
      "outputs": [
        {
          "output_type": "execute_result",
          "data": {
            "text/plain": [
              "5"
            ]
          },
          "metadata": {
            "tags": []
          },
          "execution_count": 46
        }
      ]
    },
    {
      "cell_type": "code",
      "metadata": {
        "colab": {
          "base_uri": "https://localhost:8080/"
        },
        "id": "mDL-RQ6lPV07",
        "outputId": "5036203e-b94e-4f3c-ea6b-0ef810e537ab"
      },
      "source": [
        "vetor.pesquisar(2)"
      ],
      "execution_count": 47,
      "outputs": [
        {
          "output_type": "execute_result",
          "data": {
            "text/plain": [
              "-1"
            ]
          },
          "metadata": {
            "tags": []
          },
          "execution_count": 47
        }
      ]
    },
    {
      "cell_type": "code",
      "metadata": {
        "colab": {
          "base_uri": "https://localhost:8080/"
        },
        "id": "kdDEVKvpPe0s",
        "outputId": "63c1e2ea-0f19-4e80-e537-d583ded5327f"
      },
      "source": [
        "vetor.pesquisar(9)"
      ],
      "execution_count": 48,
      "outputs": [
        {
          "output_type": "execute_result",
          "data": {
            "text/plain": [
              "-1"
            ]
          },
          "metadata": {
            "tags": []
          },
          "execution_count": 48
        }
      ]
    },
    {
      "cell_type": "code",
      "metadata": {
        "id": "gvWYpGAzQMwh",
        "outputId": "88c58afc-646c-49f2-ba11-26458f3cd820",
        "colab": {
          "base_uri": "https://localhost:8080/"
        }
      },
      "source": [
        "vetor.imprime()\n",
        "vetor.excluir(5)"
      ],
      "execution_count": 49,
      "outputs": [
        {
          "output_type": "stream",
          "text": [
            "0 - 1\n",
            "1 - 3\n",
            "2 - 4\n",
            "3 - 5\n",
            "4 - 6\n",
            "5 - 8\n"
          ],
          "name": "stdout"
        }
      ]
    },
    {
      "cell_type": "code",
      "metadata": {
        "id": "9sjGwbfARb7U",
        "outputId": "27c1dc29-123b-46d9-93e3-40a809373db1",
        "colab": {
          "base_uri": "https://localhost:8080/"
        }
      },
      "source": [
        "vetor.imprime()\n",
        "vetor.excluir(1)\n",
        "vetor.imprime()"
      ],
      "execution_count": 50,
      "outputs": [
        {
          "output_type": "stream",
          "text": [
            "0 - 1\n",
            "1 - 3\n",
            "2 - 4\n",
            "3 - 6\n",
            "4 - 8\n",
            "0 - 3\n",
            "1 - 4\n",
            "2 - 6\n",
            "3 - 8\n"
          ],
          "name": "stdout"
        }
      ]
    },
    {
      "cell_type": "code",
      "metadata": {
        "id": "CzyC8wI_RgbZ",
        "outputId": "0380bd10-8f7d-40aa-c807-a2b1e9dfd108",
        "colab": {
          "base_uri": "https://localhost:8080/"
        }
      },
      "source": [
        "vetor.excluir(8)\n",
        "vetor.imprime()"
      ],
      "execution_count": 51,
      "outputs": [
        {
          "output_type": "stream",
          "text": [
            "0 - 3\n",
            "1 - 4\n",
            "2 - 6\n"
          ],
          "name": "stdout"
        }
      ]
    },
    {
      "cell_type": "code",
      "metadata": {
        "id": "7MbmNWy-RizH",
        "outputId": "daf180cc-2c9a-45c0-ec49-dbdc8f8ff5e8",
        "colab": {
          "base_uri": "https://localhost:8080/"
        }
      },
      "source": [
        "vetor.excluir(9)"
      ],
      "execution_count": 53,
      "outputs": [
        {
          "output_type": "execute_result",
          "data": {
            "text/plain": [
              "-1"
            ]
          },
          "metadata": {
            "tags": []
          },
          "execution_count": 53
        }
      ]
    }
  ]
}