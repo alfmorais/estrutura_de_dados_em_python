{
  "nbformat": 4,
  "nbformat_minor": 0,
  "metadata": {
    "colab": {
      "name": "Untitled109.ipynb",
      "provenance": [],
      "authorship_tag": "ABX9TyOAbBZZiFYoNbtxLLgcOeEK",
      "include_colab_link": true
    },
    "kernelspec": {
      "name": "python3",
      "display_name": "Python 3"
    },
    "language_info": {
      "name": "python"
    }
  },
  "cells": [
    {
      "cell_type": "markdown",
      "metadata": {
        "id": "view-in-github",
        "colab_type": "text"
      },
      "source": [
        "<a href=\"https://colab.research.google.com/github/alfmorais/estrutura_de_dados_em_python/blob/main/secao_6/aula_67.ipynb\" target=\"_parent\"><img src=\"https://colab.research.google.com/assets/colab-badge.svg\" alt=\"Open In Colab\"/></a>"
      ]
    },
    {
      "cell_type": "markdown",
      "metadata": {
        "id": "4XPZmW_y5Hlm"
      },
      "source": [
        "#Pilhas - Aula 67\n",
        "\n",
        "Empilhar um elemento em cima do outro.\n",
        "\n",
        "A - você estpa ocupado com um projeto de longo prazo\n",
        "\n",
        "B - é interrompido por um colega solicitando ajuda em um outro projeto.\n",
        "\n",
        "C - enquanto estiver trabalhando em B, alguém da contabilidade aparece para uma reunião sobre despesas de viagem\n",
        "\n",
        "D - durante a reunidão, recebe um telefonema de emergência de alguém de vendas e passa alguns minutos resolvendo um problema relacionado a um novo produto\n",
        "\n",
        "RESOLUÇÃO: \n",
        "\n",
        "D\n",
        "\n",
        "C\n",
        "\n",
        "B\n",
        "\n",
        "A\n",
        "\n",
        "Quando tiver terminado o telefonema D, voltará para a reunião C, quando tiver acabado com C, voltará para o projeto B e quando tiver terminado com B, poderá finalmente voltar para o projeto A.\n",
        "\n",
        "\n",
        "\n",
        "*   Permite acesso a um item de dados: o último item inserido\n",
        "*   Se o último item for removido, o item anterior ao último inserido poderá ser acessado.\n",
        "*   Aplicações:\n",
        "> * Correção da expressões aritméticas, tais como 3 * (4 + 5)\n",
        "> * Percorrimento de uma árvore binária\n",
        "> * Pesquisa do vértice de um grafo\n",
        "> * Microprocessadores com arquitetura baseada em pilhas. Quando um método é chamado, seu endereço de retorno e seus parâmetros são empilhados em uma pilha e quando ele retorna, são desempilhados. \n",
        "\n",
        "# Operações\n",
        "\n",
        "- Empilhar: colocar um item de dados no topo da pilha\n",
        "- Desempilhar: Remover um item do topo da pilha\n",
        "- Ver o topo: Mostra o elemento que está no topo da pilha\n",
        "- Último a entrar Primeiro a a Sair (LIFO - Last In First Out)\n"
      ]
    },
    {
      "cell_type": "code",
      "metadata": {
        "id": "7KF0fq1z4vzt"
      },
      "source": [
        ""
      ],
      "execution_count": null,
      "outputs": []
    }
  ]
}