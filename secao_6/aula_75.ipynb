{
  "nbformat": 4,
  "nbformat_minor": 0,
  "metadata": {
    "colab": {
      "name": "Untitled110.ipynb",
      "provenance": [],
      "authorship_tag": "ABX9TyOY8Mp6znGafzbd/NeYGO+V",
      "include_colab_link": true
    },
    "kernelspec": {
      "name": "python3",
      "display_name": "Python 3"
    },
    "language_info": {
      "name": "python"
    }
  },
  "cells": [
    {
      "cell_type": "markdown",
      "metadata": {
        "id": "view-in-github",
        "colab_type": "text"
      },
      "source": [
        "<a href=\"https://colab.research.google.com/github/alfmorais/estrutura_de_dados_em_python/blob/main/secao_6/aula_75.ipynb\" target=\"_parent\"><img src=\"https://colab.research.google.com/assets/colab-badge.svg\" alt=\"Open In Colab\"/></a>"
      ]
    },
    {
      "cell_type": "markdown",
      "metadata": {
        "id": "WtL5nPpPaCM_"
      },
      "source": [
        "#Filas (First In First Out)\n",
        "#Aula 71\n",
        "\n",
        "\n",
        "*   A primeira pessoa a entrar no final da fila será a primeira pessoa a chegar na frente da fila.\n",
        "*   É uma estrutura semelhante a uma pilha, exceto que em uma fila o primerio elemento inserido é o primeiro a ser removido (First In First Out - Primeiro a entrar Primeiro a sair). \n",
        "*   Aplicações\n",
        "> *   Modelar aviões aguardando para decolar\n",
        "> *   Pacotes de dados esperando para serem transmitidos pela rede\n",
        "> *   Fila da impressora, no qual serviços de impressão aguardam a impressora ficar disponível. \n",
        "> *   Armazena os dados digitados pelo teclado em um processador de texto. \n",
        "\n",
        "##Operações\n",
        "\n",
        "\n",
        "\n",
        "*   Enfilerar: colocar um item no final da fila\n",
        "*   Desenfileirar: remover um item do inicio da fila\n",
        "*   Ver início da fila: monstra o elemento que está no início da fila\n",
        "\n",
        "##Fila circular\n",
        "Os elementos circulam dentro do vetor. \n",
        "\n",
        "\n",
        "\n",
        "\n",
        "\n",
        "\n",
        "\n",
        "\n",
        "\n"
      ]
    },
    {
      "cell_type": "code",
      "metadata": {
        "id": "arq48UN3Z3vv"
      },
      "source": [
        "import numpy as np"
      ],
      "execution_count": 1,
      "outputs": []
    },
    {
      "cell_type": "code",
      "metadata": {
        "id": "-gMuy5okgeIU"
      },
      "source": [
        "class Fila_Circular:\n",
        "\n",
        "  def __init__(self, capacidade):\n",
        "    self.capacidade = capacidade\n",
        "    self.inicio = 0\n",
        "    self.final = -1\n",
        "    self.numero_elementos = 0\n",
        "    self.valores = np.empty(self.capacidade, dtype=int)\n",
        "\n",
        "  def __fila_vazia(self):\n",
        "    return self.numero_elementos == 0\n",
        "\n",
        "  def __fila_cheia(self):\n",
        "    return self.numero_elementos == self.capacidade\n",
        "\n",
        "  def enfileirar(self, valor):\n",
        "    if self.__fila_cheia():\n",
        "      print('A fila está cheia')\n",
        "      return\n",
        "\n",
        "    if self.final == self.capacidade - 1:\n",
        "      self.final = -1\n",
        "    self.final += 1\n",
        "    self.valores[self.final] = valor\n",
        "    self.numero_elementos += 1\n",
        "\n",
        "  def desenfileirar(self):\n",
        "    if self.__fila_vazia():\n",
        "      print('A fila já está vazia')\n",
        "      return\n",
        "\n",
        "    temp = self.valores[self.inicio]\n",
        "    self.inicio += 1\n",
        "    if self.inicio == self.capacidade:\n",
        "      self.inicio = 0\n",
        "    \n",
        "    self.numero_elementos -= 1\n",
        "    return temp\n",
        "  \n",
        "  def primeiro(self):\n",
        "    if self.__fila_vazia():\n",
        "      return -1\n",
        "    return self.valores[self.inicio]"
      ],
      "execution_count": 2,
      "outputs": []
    },
    {
      "cell_type": "code",
      "metadata": {
        "id": "muAZ9g72iWBx"
      },
      "source": [
        "fila = Fila_Circular(5)"
      ],
      "execution_count": 3,
      "outputs": []
    },
    {
      "cell_type": "code",
      "metadata": {
        "colab": {
          "base_uri": "https://localhost:8080/",
          "height": 0
        },
        "id": "ongpsk4XiaZu",
        "outputId": "94393473-7064-4644-9914-42b7e24590a1"
      },
      "source": [
        "fila.primeiro()"
      ],
      "execution_count": 4,
      "outputs": [
        {
          "output_type": "execute_result",
          "data": {
            "text/plain": [
              "-1"
            ]
          },
          "metadata": {
            "tags": []
          },
          "execution_count": 4
        }
      ]
    },
    {
      "cell_type": "code",
      "metadata": {
        "id": "ZM88fNqhidlT"
      },
      "source": [
        "fila.enfileirar(1)"
      ],
      "execution_count": 5,
      "outputs": []
    },
    {
      "cell_type": "code",
      "metadata": {
        "id": "ZZLLYGFsihyT"
      },
      "source": [
        "fila.enfileirar(2)\n",
        "fila.enfileirar(3)\n",
        "fila.enfileirar(4)"
      ],
      "execution_count": 6,
      "outputs": []
    },
    {
      "cell_type": "code",
      "metadata": {
        "colab": {
          "base_uri": "https://localhost:8080/",
          "height": 0
        },
        "id": "0-rmd755iq9w",
        "outputId": "4005759e-6f5f-44ce-f698-eec462e76691"
      },
      "source": [
        "fila.primeiro()"
      ],
      "execution_count": 7,
      "outputs": [
        {
          "output_type": "execute_result",
          "data": {
            "text/plain": [
              "1"
            ]
          },
          "metadata": {
            "tags": []
          },
          "execution_count": 7
        }
      ]
    },
    {
      "cell_type": "code",
      "metadata": {
        "id": "p0Em_TqiixAK"
      },
      "source": [
        "fila.enfileirar(5)"
      ],
      "execution_count": 8,
      "outputs": []
    },
    {
      "cell_type": "code",
      "metadata": {
        "colab": {
          "base_uri": "https://localhost:8080/",
          "height": 0
        },
        "id": "kFc6Ti9vizCC",
        "outputId": "57e779f7-c426-412e-9a13-5b5e38402fde"
      },
      "source": [
        "fila.enfileirar(6)"
      ],
      "execution_count": 9,
      "outputs": [
        {
          "output_type": "stream",
          "text": [
            "A fila está cheia\n"
          ],
          "name": "stdout"
        }
      ]
    },
    {
      "cell_type": "code",
      "metadata": {
        "colab": {
          "base_uri": "https://localhost:8080/",
          "height": 0
        },
        "id": "mCzD_sLyi0k3",
        "outputId": "d879d449-02e1-4a65-fc3d-d2c82c7bf622"
      },
      "source": [
        "fila.desenfileirar()\n",
        "fila.desenfileirar()"
      ],
      "execution_count": 10,
      "outputs": [
        {
          "output_type": "execute_result",
          "data": {
            "text/plain": [
              "2"
            ]
          },
          "metadata": {
            "tags": []
          },
          "execution_count": 10
        }
      ]
    },
    {
      "cell_type": "code",
      "metadata": {
        "colab": {
          "base_uri": "https://localhost:8080/",
          "height": 0
        },
        "id": "-xScRgS1jTOM",
        "outputId": "24d2e30e-387a-48c9-f65e-7184ac16ff31"
      },
      "source": [
        "fila.primeiro()"
      ],
      "execution_count": 11,
      "outputs": [
        {
          "output_type": "execute_result",
          "data": {
            "text/plain": [
              "3"
            ]
          },
          "metadata": {
            "tags": []
          },
          "execution_count": 11
        }
      ]
    },
    {
      "cell_type": "code",
      "metadata": {
        "id": "yqDFB_wxjh2T"
      },
      "source": [
        "fila.enfileirar(6)\n",
        "fila.enfileirar(7)"
      ],
      "execution_count": 12,
      "outputs": []
    },
    {
      "cell_type": "code",
      "metadata": {
        "colab": {
          "base_uri": "https://localhost:8080/",
          "height": 0
        },
        "id": "y_9g6fasjpEe",
        "outputId": "0dcce6df-2547-49b6-f21a-9de7b4112b2b"
      },
      "source": [
        "fila.primeiro()"
      ],
      "execution_count": 13,
      "outputs": [
        {
          "output_type": "execute_result",
          "data": {
            "text/plain": [
              "3"
            ]
          },
          "metadata": {
            "tags": []
          },
          "execution_count": 13
        }
      ]
    },
    {
      "cell_type": "code",
      "metadata": {
        "colab": {
          "base_uri": "https://localhost:8080/",
          "height": 0
        },
        "id": "mQsFSxf3jrXx",
        "outputId": "7667c91f-d369-42b9-8645-c1e7967a5013"
      },
      "source": [
        "fila.valores"
      ],
      "execution_count": 14,
      "outputs": [
        {
          "output_type": "execute_result",
          "data": {
            "text/plain": [
              "array([6, 7, 3, 4, 5])"
            ]
          },
          "metadata": {
            "tags": []
          },
          "execution_count": 14
        }
      ]
    },
    {
      "cell_type": "code",
      "metadata": {
        "colab": {
          "base_uri": "https://localhost:8080/",
          "height": 0
        },
        "id": "XlB3GYoNj0OB",
        "outputId": "f3bfebba-ab82-4709-eb32-a968e3cd9022"
      },
      "source": [
        "fila.inicio, fila.final\n",
        "print('Posição inicial da fila: ', fila.inicio, 'Valor do Array: ', fila.valores[fila.inicio])\n",
        "print('Posição final da fila: ', fila.final, 'Valor do Array: ', fila.valores[fila.final])"
      ],
      "execution_count": 20,
      "outputs": [
        {
          "output_type": "stream",
          "text": [
            "Posição inicial da fila:  2 Valor do Array:  3\n",
            "Posição final da fila:  1 Valor do Array:  7\n"
          ],
          "name": "stdout"
        }
      ]
    },
    {
      "cell_type": "code",
      "metadata": {
        "id": "T2Hn7SWKkFqI",
        "colab": {
          "base_uri": "https://localhost:8080/",
          "height": 0
        },
        "outputId": "2c16c8f1-cce7-415f-f1fc-0622c5d18705"
      },
      "source": [
        "fila.valores[fila.final]"
      ],
      "execution_count": 16,
      "outputs": [
        {
          "output_type": "execute_result",
          "data": {
            "text/plain": [
              "7"
            ]
          },
          "metadata": {
            "tags": []
          },
          "execution_count": 16
        }
      ]
    },
    {
      "cell_type": "markdown",
      "metadata": {
        "id": "pgGlxZor6eDx"
      },
      "source": [
        "# Filas de Prioridade\n",
        "\n",
        "- Os itens são ordenados por valor-chave, de modo que o item com a chave mais baixa/alta esteja sempre na frente.\n",
        "- Elementos de alta prioridade são colocados no início da fila, de média prioridade no meio da fila e elementos de baixa prioridade no final da fila. \n",
        "- Priority Queue\n",
        "- Array Simples\n",
        "- Vetor Circular\n",
        "- Vetor"
      ]
    },
    {
      "cell_type": "code",
      "metadata": {
        "id": "SrxAa9Jp7z3D"
      },
      "source": [
        "import numpy as np"
      ],
      "execution_count": null,
      "outputs": []
    },
    {
      "cell_type": "code",
      "metadata": {
        "id": "LF7UQdVJ73jd"
      },
      "source": [
        "class Fila_Prioridade:\n",
        "  def __init__(self, capacidade):\n",
        "    self.capacidade = capacidade\n",
        "    self.numero_elementos = 0\n",
        "    self.valores = np.empty(self.capacidade, dtype=int)\n",
        "\n",
        "  def __fila_vazia(self):\n",
        "    return self.numero_elementos == 0\n",
        "    \n",
        "  def __fila_cheia(self):\n",
        "    return self.numero_elementos == self.capacidade\n",
        "\n",
        "  def enfileirar(self, valor):\n",
        "    if self.__fila_cheia():\n",
        "      print('A fila está cheia')\n",
        "      return\n",
        "\n",
        "    if self.numero_elementos == 0:\n",
        "      self.valores[self.numero_elementos] = valor\n",
        "      self.numero_elementos += 1\n",
        "    else:\n",
        "      # 7 6 5\n",
        "      x = self.numero_elementos - 1\n",
        "      while x >= 0:\n",
        "        if valor > self.valores[x]:\n",
        "          self.valores[x + 1] = self.valores[x]\n",
        "        else:\n",
        "          break\n",
        "        x -= 1\n",
        "      self.valores[x + 1] = valor\n",
        "      self.numero_elementos += 1\n",
        "\n",
        "  def desenfileirar(self):\n",
        "    if self.__fila_vazia():\n",
        "      print('A fila está vazia')\n",
        "      return\n",
        "\n",
        "    valor = self.valores[self.numero_elementos - 1]\n",
        "    self.numero_elementos -= 1\n",
        "    return valor\n",
        "\n",
        "  def primeiro(self):\n",
        "    if self.__fila_vazia():\n",
        "      return -1\n",
        "    return self.valores[self.numero_elementos - 1]"
      ],
      "execution_count": 22,
      "outputs": []
    },
    {
      "cell_type": "code",
      "metadata": {
        "id": "-EFR2cw--Hhz"
      },
      "source": [
        "fila = Fila_Prioridade(5)"
      ],
      "execution_count": 23,
      "outputs": []
    },
    {
      "cell_type": "code",
      "metadata": {
        "colab": {
          "base_uri": "https://localhost:8080/",
          "height": 0
        },
        "id": "_QdL0lu3-LQC",
        "outputId": "a420cdbf-b7ba-4a2a-eb85-2ddd14e37d67"
      },
      "source": [
        "fila.primeiro()"
      ],
      "execution_count": 24,
      "outputs": [
        {
          "output_type": "execute_result",
          "data": {
            "text/plain": [
              "-1"
            ]
          },
          "metadata": {
            "tags": []
          },
          "execution_count": 24
        }
      ]
    },
    {
      "cell_type": "code",
      "metadata": {
        "id": "hi7WvLAR-N9W"
      },
      "source": [
        "fila.enfileirar(30)"
      ],
      "execution_count": 25,
      "outputs": []
    },
    {
      "cell_type": "code",
      "metadata": {
        "colab": {
          "base_uri": "https://localhost:8080/",
          "height": 0
        },
        "id": "-SG_ub1K-SNG",
        "outputId": "18abebb2-6067-486c-958c-34eb245179e9"
      },
      "source": [
        "fila.primeiro()"
      ],
      "execution_count": 26,
      "outputs": [
        {
          "output_type": "execute_result",
          "data": {
            "text/plain": [
              "30"
            ]
          },
          "metadata": {
            "tags": []
          },
          "execution_count": 26
        }
      ]
    },
    {
      "cell_type": "code",
      "metadata": {
        "id": "KIdCXvpI-XJJ"
      },
      "source": [
        "fila.enfileirar(50)"
      ],
      "execution_count": 27,
      "outputs": []
    },
    {
      "cell_type": "code",
      "metadata": {
        "id": "RtPmt5fu-Z6_"
      },
      "source": [
        "fila.enfileirar(10)"
      ],
      "execution_count": 28,
      "outputs": []
    },
    {
      "cell_type": "code",
      "metadata": {
        "colab": {
          "base_uri": "https://localhost:8080/"
        },
        "id": "vKwo1WeM-cX7",
        "outputId": "22941cb4-541d-4716-c6b7-c03a20891939"
      },
      "source": [
        "fila.primeiro()"
      ],
      "execution_count": 29,
      "outputs": [
        {
          "output_type": "execute_result",
          "data": {
            "text/plain": [
              "10"
            ]
          },
          "metadata": {
            "tags": []
          },
          "execution_count": 29
        }
      ]
    },
    {
      "cell_type": "code",
      "metadata": {
        "colab": {
          "base_uri": "https://localhost:8080/"
        },
        "id": "_jMMLcd3-hzt",
        "outputId": "8df8f4a8-32e0-4f90-f29d-0b57d29d8858"
      },
      "source": [
        "fila.valores"
      ],
      "execution_count": 30,
      "outputs": [
        {
          "output_type": "execute_result",
          "data": {
            "text/plain": [
              "array([50, 30, 10,  0,  0])"
            ]
          },
          "metadata": {
            "tags": []
          },
          "execution_count": 30
        }
      ]
    },
    {
      "cell_type": "code",
      "metadata": {
        "id": "AYrFXTDd-2Ce"
      },
      "source": [
        "fila.enfileirar(1)"
      ],
      "execution_count": 31,
      "outputs": []
    },
    {
      "cell_type": "code",
      "metadata": {
        "id": "DpjKEMuE-5_4"
      },
      "source": [
        "fila.enfileirar(2)"
      ],
      "execution_count": 32,
      "outputs": []
    },
    {
      "cell_type": "code",
      "metadata": {
        "colab": {
          "base_uri": "https://localhost:8080/"
        },
        "id": "3RX2v-TV-71E",
        "outputId": "49e4bc22-a22e-4e12-fa7e-0851c5971ef8"
      },
      "source": [
        "fila.valores"
      ],
      "execution_count": 33,
      "outputs": [
        {
          "output_type": "execute_result",
          "data": {
            "text/plain": [
              "array([50, 30, 10,  2,  1])"
            ]
          },
          "metadata": {
            "tags": []
          },
          "execution_count": 33
        }
      ]
    },
    {
      "cell_type": "code",
      "metadata": {
        "colab": {
          "base_uri": "https://localhost:8080/"
        },
        "id": "vvvNZQF---34",
        "outputId": "f2d413ec-ada3-4489-fcf9-cda000b4058e"
      },
      "source": [
        "fila.desenfileirar()\n",
        "fila.desenfileirar()\n",
        "fila.desenfileirar()\n",
        "fila.valores"
      ],
      "execution_count": 38,
      "outputs": [
        {
          "output_type": "stream",
          "text": [
            "A fila está vazia\n",
            "A fila está vazia\n",
            "A fila está vazia\n"
          ],
          "name": "stdout"
        },
        {
          "output_type": "execute_result",
          "data": {
            "text/plain": [
              "array([50, 30, 10,  2,  1])"
            ]
          },
          "metadata": {
            "tags": []
          },
          "execution_count": 38
        }
      ]
    },
    {
      "cell_type": "code",
      "metadata": {
        "colab": {
          "base_uri": "https://localhost:8080/"
        },
        "id": "_kmwiizl_CXA",
        "outputId": "ed234dee-fb65-4de6-dd7b-245e112d602f"
      },
      "source": [
        "fila.valores"
      ],
      "execution_count": 37,
      "outputs": [
        {
          "output_type": "execute_result",
          "data": {
            "text/plain": [
              "array([50, 30, 10,  2,  1])"
            ]
          },
          "metadata": {
            "tags": []
          },
          "execution_count": 37
        }
      ]
    }
  ]
}