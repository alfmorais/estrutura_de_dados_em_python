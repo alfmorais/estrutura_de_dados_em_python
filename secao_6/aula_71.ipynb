{
  "nbformat": 4,
  "nbformat_minor": 0,
  "metadata": {
    "colab": {
      "name": "Untitled110.ipynb",
      "provenance": [],
      "authorship_tag": "ABX9TyOczqJdJnMG4p5KLBvD6KtX",
      "include_colab_link": true
    },
    "kernelspec": {
      "name": "python3",
      "display_name": "Python 3"
    },
    "language_info": {
      "name": "python"
    }
  },
  "cells": [
    {
      "cell_type": "markdown",
      "metadata": {
        "id": "view-in-github",
        "colab_type": "text"
      },
      "source": [
        "<a href=\"https://colab.research.google.com/github/alfmorais/estrutura_de_dados_em_python/blob/main/secao_6/aula_71.ipynb\" target=\"_parent\"><img src=\"https://colab.research.google.com/assets/colab-badge.svg\" alt=\"Open In Colab\"/></a>"
      ]
    },
    {
      "cell_type": "markdown",
      "metadata": {
        "id": "WtL5nPpPaCM_"
      },
      "source": [
        "#Filas (First In First Out)\n",
        "#Aula 71\n",
        "\n",
        "\n",
        "*   A primeira pessoa a entrar no final da fila será a primeira pessoa a chegar na frente da fila.\n",
        "*   É uma estrutura semelhante a uma pilha, exceto que em uma fila o primerio elemento inserido é o primeiro a ser removido (First In First Out - Primeiro a entrar Primeiro a sair). \n",
        "*   Aplicações\n",
        "> *   Modelar aviões aguardando para decolar\n",
        "> *   Pacotes de dados esperando para serem transmitidos pela rede\n",
        "> *   Fila da impressora, no qual serviços de impressão aguardam a impressora ficar disponível. \n",
        "> *   Armazena os dados digitados pelo teclado em um processador de texto. \n",
        "\n",
        "##Operações\n",
        "\n",
        "\n",
        "\n",
        "*   Enfilerar: colocar um item no final da fila\n",
        "*   Desenfileirar: remover um item do inicio da fila\n",
        "*   Ver início da fila: monstra o elemento que está no início da fila\n",
        "\n",
        "##Fila circular\n",
        "Os elementos circulam dentro do vetor. \n",
        "\n",
        "\n",
        "\n",
        "\n",
        "\n",
        "\n",
        "\n",
        "\n",
        "\n"
      ]
    },
    {
      "cell_type": "code",
      "metadata": {
        "id": "arq48UN3Z3vv"
      },
      "source": [
        "import numpy as np"
      ],
      "execution_count": 1,
      "outputs": []
    },
    {
      "cell_type": "code",
      "metadata": {
        "id": "-gMuy5okgeIU"
      },
      "source": [
        "class Fila_Circular:\n",
        "\n",
        "  def __init__(self, capacidade):\n",
        "    self.capacidade = capacidade\n",
        "    self.inicio = 0\n",
        "    self.final = -1\n",
        "    self.numero_elementos = 0\n",
        "    self.valores = np.empty(self.capacidade, dtype=int)\n",
        "\n",
        "  def __fila_vazia(self):\n",
        "    return self.numero_elementos == 0\n",
        "\n",
        "  def __fila_cheia(self):\n",
        "    return self.numero_elementos == self.capacidade\n",
        "\n",
        "  def enfileirar(self, valor):\n",
        "    if self.__fila_cheia():\n",
        "      print('A fila está cheia')\n",
        "      return\n",
        "\n",
        "    if self.final == self.capacidade - 1:\n",
        "      self.final = -1\n",
        "    self.final += 1\n",
        "    self.valores[self.final] = valor\n",
        "    self.numero_elementos += 1\n",
        "\n",
        "  def desenfileirar(self):\n",
        "    if self.__fila_vazia():\n",
        "      print('A fila já está vazia')\n",
        "      return\n",
        "\n",
        "    temp = self.valores[self.inicio]\n",
        "    self.inicio += 1\n",
        "    if self.inicio == self.capacidade:\n",
        "      self.inicio = 0\n",
        "    \n",
        "    self.numero_elementos -= 1\n",
        "    return temp\n",
        "  \n",
        "  def primeiro(self):\n",
        "    if self.__fila_vazia():\n",
        "      return -1\n",
        "    return self.valores[self.inicio]"
      ],
      "execution_count": 2,
      "outputs": []
    },
    {
      "cell_type": "code",
      "metadata": {
        "id": "muAZ9g72iWBx"
      },
      "source": [
        "fila = Fila_Circular(5)"
      ],
      "execution_count": 3,
      "outputs": []
    },
    {
      "cell_type": "code",
      "metadata": {
        "colab": {
          "base_uri": "https://localhost:8080/"
        },
        "id": "ongpsk4XiaZu",
        "outputId": "94393473-7064-4644-9914-42b7e24590a1"
      },
      "source": [
        "fila.primeiro()"
      ],
      "execution_count": 4,
      "outputs": [
        {
          "output_type": "execute_result",
          "data": {
            "text/plain": [
              "-1"
            ]
          },
          "metadata": {
            "tags": []
          },
          "execution_count": 4
        }
      ]
    },
    {
      "cell_type": "code",
      "metadata": {
        "id": "ZM88fNqhidlT"
      },
      "source": [
        "fila.enfileirar(1)"
      ],
      "execution_count": 5,
      "outputs": []
    },
    {
      "cell_type": "code",
      "metadata": {
        "id": "ZZLLYGFsihyT"
      },
      "source": [
        "fila.enfileirar(2)\n",
        "fila.enfileirar(3)\n",
        "fila.enfileirar(4)"
      ],
      "execution_count": 6,
      "outputs": []
    },
    {
      "cell_type": "code",
      "metadata": {
        "colab": {
          "base_uri": "https://localhost:8080/"
        },
        "id": "0-rmd755iq9w",
        "outputId": "4005759e-6f5f-44ce-f698-eec462e76691"
      },
      "source": [
        "fila.primeiro()"
      ],
      "execution_count": 7,
      "outputs": [
        {
          "output_type": "execute_result",
          "data": {
            "text/plain": [
              "1"
            ]
          },
          "metadata": {
            "tags": []
          },
          "execution_count": 7
        }
      ]
    },
    {
      "cell_type": "code",
      "metadata": {
        "id": "p0Em_TqiixAK"
      },
      "source": [
        "fila.enfileirar(5)"
      ],
      "execution_count": 8,
      "outputs": []
    },
    {
      "cell_type": "code",
      "metadata": {
        "colab": {
          "base_uri": "https://localhost:8080/"
        },
        "id": "kFc6Ti9vizCC",
        "outputId": "57e779f7-c426-412e-9a13-5b5e38402fde"
      },
      "source": [
        "fila.enfileirar(6)"
      ],
      "execution_count": 9,
      "outputs": [
        {
          "output_type": "stream",
          "text": [
            "A fila está cheia\n"
          ],
          "name": "stdout"
        }
      ]
    },
    {
      "cell_type": "code",
      "metadata": {
        "colab": {
          "base_uri": "https://localhost:8080/"
        },
        "id": "mCzD_sLyi0k3",
        "outputId": "d879d449-02e1-4a65-fc3d-d2c82c7bf622"
      },
      "source": [
        "fila.desenfileirar()\n",
        "fila.desenfileirar()"
      ],
      "execution_count": 10,
      "outputs": [
        {
          "output_type": "execute_result",
          "data": {
            "text/plain": [
              "2"
            ]
          },
          "metadata": {
            "tags": []
          },
          "execution_count": 10
        }
      ]
    },
    {
      "cell_type": "code",
      "metadata": {
        "colab": {
          "base_uri": "https://localhost:8080/"
        },
        "id": "-xScRgS1jTOM",
        "outputId": "24d2e30e-387a-48c9-f65e-7184ac16ff31"
      },
      "source": [
        "fila.primeiro()"
      ],
      "execution_count": 11,
      "outputs": [
        {
          "output_type": "execute_result",
          "data": {
            "text/plain": [
              "3"
            ]
          },
          "metadata": {
            "tags": []
          },
          "execution_count": 11
        }
      ]
    },
    {
      "cell_type": "code",
      "metadata": {
        "id": "yqDFB_wxjh2T"
      },
      "source": [
        "fila.enfileirar(6)\n",
        "fila.enfileirar(7)"
      ],
      "execution_count": 12,
      "outputs": []
    },
    {
      "cell_type": "code",
      "metadata": {
        "colab": {
          "base_uri": "https://localhost:8080/"
        },
        "id": "y_9g6fasjpEe",
        "outputId": "0dcce6df-2547-49b6-f21a-9de7b4112b2b"
      },
      "source": [
        "fila.primeiro()"
      ],
      "execution_count": 13,
      "outputs": [
        {
          "output_type": "execute_result",
          "data": {
            "text/plain": [
              "3"
            ]
          },
          "metadata": {
            "tags": []
          },
          "execution_count": 13
        }
      ]
    },
    {
      "cell_type": "code",
      "metadata": {
        "colab": {
          "base_uri": "https://localhost:8080/"
        },
        "id": "mQsFSxf3jrXx",
        "outputId": "7667c91f-d369-42b9-8645-c1e7967a5013"
      },
      "source": [
        "fila.valores"
      ],
      "execution_count": 14,
      "outputs": [
        {
          "output_type": "execute_result",
          "data": {
            "text/plain": [
              "array([6, 7, 3, 4, 5])"
            ]
          },
          "metadata": {
            "tags": []
          },
          "execution_count": 14
        }
      ]
    },
    {
      "cell_type": "code",
      "metadata": {
        "colab": {
          "base_uri": "https://localhost:8080/"
        },
        "id": "XlB3GYoNj0OB",
        "outputId": "f3bfebba-ab82-4709-eb32-a968e3cd9022"
      },
      "source": [
        "fila.inicio, fila.final\n",
        "print('Posição inicial da fila: ', fila.inicio, 'Valor do Array: ', fila.valores[fila.inicio])\n",
        "print('Posição final da fila: ', fila.final, 'Valor do Array: ', fila.valores[fila.final])"
      ],
      "execution_count": 20,
      "outputs": [
        {
          "output_type": "stream",
          "text": [
            "Posição inicial da fila:  2 Valor do Array:  3\n",
            "Posição final da fila:  1 Valor do Array:  7\n"
          ],
          "name": "stdout"
        }
      ]
    },
    {
      "cell_type": "code",
      "metadata": {
        "id": "T2Hn7SWKkFqI",
        "colab": {
          "base_uri": "https://localhost:8080/"
        },
        "outputId": "2c16c8f1-cce7-415f-f1fc-0622c5d18705"
      },
      "source": [
        "fila.valores[fila.final]"
      ],
      "execution_count": 16,
      "outputs": [
        {
          "output_type": "execute_result",
          "data": {
            "text/plain": [
              "7"
            ]
          },
          "metadata": {
            "tags": []
          },
          "execution_count": 16
        }
      ]
    }
  ]
}