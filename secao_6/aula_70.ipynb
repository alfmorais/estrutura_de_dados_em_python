{
  "nbformat": 4,
  "nbformat_minor": 0,
  "metadata": {
    "colab": {
      "name": "Untitled109.ipynb",
      "provenance": [],
      "authorship_tag": "ABX9TyNubXAe7Vg7uEoBX1TGncjn",
      "include_colab_link": true
    },
    "kernelspec": {
      "name": "python3",
      "display_name": "Python 3"
    },
    "language_info": {
      "name": "python"
    }
  },
  "cells": [
    {
      "cell_type": "markdown",
      "metadata": {
        "id": "view-in-github",
        "colab_type": "text"
      },
      "source": [
        "<a href=\"https://colab.research.google.com/github/alfmorais/estrutura_de_dados_em_python/blob/main/aula_70.ipynb\" target=\"_parent\"><img src=\"https://colab.research.google.com/assets/colab-badge.svg\" alt=\"Open In Colab\"/></a>"
      ]
    },
    {
      "cell_type": "markdown",
      "metadata": {
        "id": "4XPZmW_y5Hlm"
      },
      "source": [
        "#Pilhas - Aula 67\n",
        "\n",
        "Empilhar um elemento em cima do outro.\n",
        "\n",
        "A - você estpa ocupado com um projeto de longo prazo\n",
        "\n",
        "B - é interrompido por um colega solicitando ajuda em um outro projeto.\n",
        "\n",
        "C - enquanto estiver trabalhando em B, alguém da contabilidade aparece para uma reunião sobre despesas de viagem\n",
        "\n",
        "D - durante a reunidão, recebe um telefonema de emergência de alguém de vendas e passa alguns minutos resolvendo um problema relacionado a um novo produto\n",
        "\n",
        "RESOLUÇÃO: \n",
        "\n",
        "D\n",
        "\n",
        "C\n",
        "\n",
        "B\n",
        "\n",
        "A\n",
        "\n",
        "Quando tiver terminado o telefonema D, voltará para a reunião C, quando tiver acabado com C, voltará para o projeto B e quando tiver terminado com B, poderá finalmente voltar para o projeto A.\n",
        "\n",
        "\n",
        "\n",
        "*   Permite acesso a um item de dados: o último item inserido\n",
        "*   Se o último item for removido, o item anterior ao último inserido poderá ser acessado.\n",
        "*   Aplicações:\n",
        "> * Correção da expressões aritméticas, tais como 3 * (4 + 5)\n",
        "> * Percorrimento de uma árvore binária\n",
        "> * Pesquisa do vértice de um grafo\n",
        "> * Microprocessadores com arquitetura baseada em pilhas. Quando um método é chamado, seu endereço de retorno e seus parâmetros são empilhados em uma pilha e quando ele retorna, são desempilhados. \n",
        "\n",
        "# Operações\n",
        "\n",
        "- Empilhar: colocar um item de dados no topo da pilha\n",
        "- Desempilhar: Remover um item do topo da pilha\n",
        "- Ver o topo: Mostra o elemento que está no topo da pilha\n",
        "- Último a entrar Primeiro a a Sair (LIFO - Last In First Out)\n"
      ]
    },
    {
      "cell_type": "code",
      "metadata": {
        "id": "7KF0fq1z4vzt"
      },
      "source": [
        "# Aula 68\n",
        "import numpy as np"
      ],
      "execution_count": 14,
      "outputs": []
    },
    {
      "cell_type": "code",
      "metadata": {
        "id": "1mcB61-G9u-e"
      },
      "source": [
        "class Pilha:\n",
        "\n",
        "  def __init__(self, capacidade):\n",
        "    self.__capacidade = capacidade\n",
        "    self.__topo = -1\n",
        "    self.__valores = np.empty(self.__capacidade, dtype=int)\n",
        "\n",
        "  def __pilha_cheia(self):\n",
        "    if self.__topo == self.__capacidade - 1:\n",
        "      return True\n",
        "    else:\n",
        "      return False\n",
        "  \n",
        "  def __pilha_vazia(self):\n",
        "    if self.__topo == -1:\n",
        "      return True\n",
        "    else:\n",
        "      return False\n",
        "  \n",
        "  def empilhar(self, valor):\n",
        "    if self.__pilha_cheia():\n",
        "      print('A pilha está cheia')\n",
        "    else:\n",
        "      self.__topo += 1\n",
        "      self.__valores[self.__topo] = valor\n",
        "\n",
        "  def desempilhar(self):\n",
        "    if self.__pilha_vazia():\n",
        "      print('A pilha está vazia')\n",
        "    else:\n",
        "      self.__topo -= 1\n",
        "\n",
        "  def ver_topo(self):\n",
        "    if self.__topo != -1:\n",
        "      return self.__valores[self.__topo]\n",
        "    else:\n",
        "      return -1"
      ],
      "execution_count": 15,
      "outputs": []
    },
    {
      "cell_type": "code",
      "metadata": {
        "id": "78wJ6iVS-Lft"
      },
      "source": [
        "pilha = Pilha(5)"
      ],
      "execution_count": 16,
      "outputs": []
    },
    {
      "cell_type": "code",
      "metadata": {
        "colab": {
          "base_uri": "https://localhost:8080/"
        },
        "id": "sLm86R1P-OsT",
        "outputId": "61b0e60e-bfad-406c-8c73-88f2cff50fd1"
      },
      "source": [
        "pilha.ver_topo()"
      ],
      "execution_count": 17,
      "outputs": [
        {
          "output_type": "execute_result",
          "data": {
            "text/plain": [
              "-1"
            ]
          },
          "metadata": {
            "tags": []
          },
          "execution_count": 17
        }
      ]
    },
    {
      "cell_type": "code",
      "metadata": {
        "colab": {
          "base_uri": "https://localhost:8080/"
        },
        "id": "Ly9c2GBNBVVW",
        "outputId": "9355870a-d60c-4700-fb66-017e183510ad"
      },
      "source": [
        "pilha.empilhar(1)\n",
        "pilha.ver_topo()"
      ],
      "execution_count": 18,
      "outputs": [
        {
          "output_type": "execute_result",
          "data": {
            "text/plain": [
              "1"
            ]
          },
          "metadata": {
            "tags": []
          },
          "execution_count": 18
        }
      ]
    },
    {
      "cell_type": "code",
      "metadata": {
        "id": "Qnn0fbe-DP7D"
      },
      "source": [
        "pilha.empilhar(1)\n",
        "pilha.empilhar(2)\n",
        "pilha.empilhar(3)\n",
        "pilha.empilhar(4)"
      ],
      "execution_count": 19,
      "outputs": []
    },
    {
      "cell_type": "code",
      "metadata": {
        "colab": {
          "base_uri": "https://localhost:8080/"
        },
        "id": "xA4_87wyDSev",
        "outputId": "50d576cc-43c1-4a0d-b74b-e11dc8a5c360"
      },
      "source": [
        "pilha.empilhar(6)"
      ],
      "execution_count": 20,
      "outputs": [
        {
          "output_type": "stream",
          "text": [
            "A pilha está cheia\n"
          ],
          "name": "stdout"
        }
      ]
    },
    {
      "cell_type": "code",
      "metadata": {
        "colab": {
          "base_uri": "https://localhost:8080/"
        },
        "id": "HsAbSpOyDT2c",
        "outputId": "6285316b-9ac9-42e6-d71c-5cc54428f520"
      },
      "source": [
        "pilha.ver_topo()"
      ],
      "execution_count": 21,
      "outputs": [
        {
          "output_type": "execute_result",
          "data": {
            "text/plain": [
              "4"
            ]
          },
          "metadata": {
            "tags": []
          },
          "execution_count": 21
        }
      ]
    },
    {
      "cell_type": "code",
      "metadata": {
        "id": "rEGtWeFoDVQO"
      },
      "source": [
        "pilha.desempilhar()"
      ],
      "execution_count": 22,
      "outputs": []
    },
    {
      "cell_type": "code",
      "metadata": {
        "id": "adgCGj6nDWzO"
      },
      "source": [
        "pilha.desempilhar()\n",
        "pilha.desempilhar()\n",
        "pilha.desempilhar()"
      ],
      "execution_count": 23,
      "outputs": []
    },
    {
      "cell_type": "code",
      "metadata": {
        "colab": {
          "base_uri": "https://localhost:8080/"
        },
        "id": "CQzphTYoDYDq",
        "outputId": "fc4689dd-37ec-441a-f9e9-17a56061f170"
      },
      "source": [
        "pilha.ver_topo()"
      ],
      "execution_count": 24,
      "outputs": [
        {
          "output_type": "execute_result",
          "data": {
            "text/plain": [
              "1"
            ]
          },
          "metadata": {
            "tags": []
          },
          "execution_count": 24
        }
      ]
    },
    {
      "cell_type": "code",
      "metadata": {
        "id": "7Srcc3dKDaWt"
      },
      "source": [
        "pilha.desempilhar()"
      ],
      "execution_count": 25,
      "outputs": []
    },
    {
      "cell_type": "code",
      "metadata": {
        "colab": {
          "base_uri": "https://localhost:8080/"
        },
        "id": "-FEI2bARDwI1",
        "outputId": "a3886348-1a8f-439b-87f3-9450c2163c63"
      },
      "source": [
        "pilha.ver_topo()"
      ],
      "execution_count": 26,
      "outputs": [
        {
          "output_type": "execute_result",
          "data": {
            "text/plain": [
              "-1"
            ]
          },
          "metadata": {
            "tags": []
          },
          "execution_count": 26
        }
      ]
    },
    {
      "cell_type": "markdown",
      "metadata": {
        "id": "j7ej4cu8EVFu"
      },
      "source": [
        "#Exercício de Validador de Expressões\n",
        "#Aula 69\n",
        "\n",
        "\n",
        "\n",
        "*   Os delimitadores são as chaves {e}, os colchetes [e], e os parênteses (e)\n",
        "*   Cada delimitador de abertura ou à esquerda deve ser casado com um delimitador de fechamento ou à direita.\n",
        "*   Toda { deve ser seguida por uma } que case com ela\n",
        "*   Exemplos: \n",
        "> *   c[d] (correto)\n",
        "> *   a{b[c]d} (correto)\n",
        "> *   a{b(c]d} (incorreto)\n",
        "> *   a{b(c) (incorreto)\n"
      ]
    },
    {
      "cell_type": "code",
      "metadata": {
        "id": "vdpZA6o3Xuhv"
      },
      "source": [
        "#Aula 70\n",
        "class Pilha:\n",
        "  def __init__(self, capacidade):\n",
        "    self.capacidade = capacidade\n",
        "    self.topo = -1\n",
        "    # Array de chars\n",
        "    self.valores = np.chararray(self.capacidade, unicode = True)\n",
        "\n",
        "  def __pilha_cheia(self):\n",
        "    if self.topo == self.capacidade - 1:\n",
        "      return True\n",
        "    else:\n",
        "      return False\n",
        "\n",
        "  # Mudança para método público\n",
        "  def pilha_vazia(self):\n",
        "    if self.topo == -1:\n",
        "      return True\n",
        "    else:\n",
        "      return False\n",
        "\n",
        "  def empilhar(self, valor):\n",
        "    if self.__pilha_cheia():\n",
        "      print('A pilha está cheia')\n",
        "    else:\n",
        "      self.topo += 1\n",
        "      self.valores[self.topo] = valor\n",
        "\n",
        "  # Retorno do valor desempilhado\n",
        "  def desempilhar(self):\n",
        "    if self.pilha_vazia():\n",
        "      print('A pilha está vazia')\n",
        "      return -1\n",
        "    else:\n",
        "      valor = self.valores[self.topo]\n",
        "      self.topo -= 1\n",
        "      return valor\n",
        "\n",
        "  def ver_topo(self):\n",
        "    if self.topo != -1:\n",
        "      return self.valores[self.topo]\n",
        "    else:\n",
        "      return -1"
      ],
      "execution_count": 27,
      "outputs": []
    },
    {
      "cell_type": "code",
      "metadata": {
        "id": "foqpxr3-Xwr5"
      },
      "source": [
        "# c[d] \n",
        "# a{b[c]d}e \n",
        "# a{b(c]d}e \n",
        "# a[b{c}d]e} \n",
        "# a{b(c) "
      ],
      "execution_count": 28,
      "outputs": []
    },
    {
      "cell_type": "code",
      "metadata": {
        "colab": {
          "base_uri": "https://localhost:8080/"
        },
        "id": "av4jWHAdXzVc",
        "outputId": "55ac2777-8ed5-4df2-cd34-faffdcdd98cd"
      },
      "source": [
        "expressao = str(input('Digite uma expressão: '))\n",
        "pilha = Pilha(len(expressao))"
      ],
      "execution_count": 29,
      "outputs": [
        {
          "output_type": "stream",
          "text": [
            "Digite uma expressão: a{b(c)]\n"
          ],
          "name": "stdout"
        }
      ]
    },
    {
      "cell_type": "code",
      "metadata": {
        "colab": {
          "base_uri": "https://localhost:8080/"
        },
        "id": "V9GbKHPtX05D",
        "outputId": "d0c68bc5-968c-4e0e-c645-bbb24dd3d74a"
      },
      "source": [
        "for i in range(len(expressao)):\n",
        "  ch = expressao[i]\n",
        "  if ch == '{' or ch == '[' or ch == '(':\n",
        "    pilha.empilhar(ch)\n",
        "  elif ch == '}' or ch == ']' or ch == ')':\n",
        "    if not pilha.pilha_vazia():\n",
        "      chx = str(pilha.desempilhar())\n",
        "      if (ch == '}' and chx != '{') or (ch == ']' and chx != '[') or (ch == ')' and chx != '('):\n",
        "        print('Erro: ', ch, ' na posição ', i)\n",
        "        break\n",
        "    else:\n",
        "        print('Erro: ', ch, ' na posição ', i)\n",
        "if not pilha.pilha_vazia():\n",
        "    print('Erro!')"
      ],
      "execution_count": 30,
      "outputs": [
        {
          "output_type": "stream",
          "text": [
            "Erro:  ]  na posição  6\n"
          ],
          "name": "stdout"
        }
      ]
    }
  ]
}
