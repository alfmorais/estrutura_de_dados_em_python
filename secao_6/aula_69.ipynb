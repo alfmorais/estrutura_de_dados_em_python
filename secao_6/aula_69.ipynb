{
  "nbformat": 4,
  "nbformat_minor": 0,
  "metadata": {
    "colab": {
      "name": "Untitled109.ipynb",
      "provenance": [],
      "authorship_tag": "ABX9TyN2f3ZEpDcssKDAuDXj4h3C",
      "include_colab_link": true
    },
    "kernelspec": {
      "name": "python3",
      "display_name": "Python 3"
    },
    "language_info": {
      "name": "python"
    }
  },
  "cells": [
    {
      "cell_type": "markdown",
      "metadata": {
        "id": "view-in-github",
        "colab_type": "text"
      },
      "source": [
        "<a href=\"https://colab.research.google.com/github/alfmorais/estrutura_de_dados_em_python/blob/main/secao_6/aula_69.ipynb\" target=\"_parent\"><img src=\"https://colab.research.google.com/assets/colab-badge.svg\" alt=\"Open In Colab\"/></a>"
      ]
    },
    {
      "cell_type": "markdown",
      "metadata": {
        "id": "4XPZmW_y5Hlm"
      },
      "source": [
        "#Pilhas - Aula 67\n",
        "\n",
        "Empilhar um elemento em cima do outro.\n",
        "\n",
        "A - você estpa ocupado com um projeto de longo prazo\n",
        "\n",
        "B - é interrompido por um colega solicitando ajuda em um outro projeto.\n",
        "\n",
        "C - enquanto estiver trabalhando em B, alguém da contabilidade aparece para uma reunião sobre despesas de viagem\n",
        "\n",
        "D - durante a reunidão, recebe um telefonema de emergência de alguém de vendas e passa alguns minutos resolvendo um problema relacionado a um novo produto\n",
        "\n",
        "RESOLUÇÃO: \n",
        "\n",
        "D\n",
        "\n",
        "C\n",
        "\n",
        "B\n",
        "\n",
        "A\n",
        "\n",
        "Quando tiver terminado o telefonema D, voltará para a reunião C, quando tiver acabado com C, voltará para o projeto B e quando tiver terminado com B, poderá finalmente voltar para o projeto A.\n",
        "\n",
        "\n",
        "\n",
        "*   Permite acesso a um item de dados: o último item inserido\n",
        "*   Se o último item for removido, o item anterior ao último inserido poderá ser acessado.\n",
        "*   Aplicações:\n",
        "> * Correção da expressões aritméticas, tais como 3 * (4 + 5)\n",
        "> * Percorrimento de uma árvore binária\n",
        "> * Pesquisa do vértice de um grafo\n",
        "> * Microprocessadores com arquitetura baseada em pilhas. Quando um método é chamado, seu endereço de retorno e seus parâmetros são empilhados em uma pilha e quando ele retorna, são desempilhados. \n",
        "\n",
        "# Operações\n",
        "\n",
        "- Empilhar: colocar um item de dados no topo da pilha\n",
        "- Desempilhar: Remover um item do topo da pilha\n",
        "- Ver o topo: Mostra o elemento que está no topo da pilha\n",
        "- Último a entrar Primeiro a a Sair (LIFO - Last In First Out)\n"
      ]
    },
    {
      "cell_type": "code",
      "metadata": {
        "id": "7KF0fq1z4vzt"
      },
      "source": [
        "# Aula 68\n",
        "import numpy as np"
      ],
      "execution_count": 1,
      "outputs": []
    },
    {
      "cell_type": "code",
      "metadata": {
        "id": "1mcB61-G9u-e"
      },
      "source": [
        "class Pilha:\n",
        "\n",
        "  def __init__(self, capacidade):\n",
        "    self.__capacidade = capacidade\n",
        "    self.__topo = -1\n",
        "    self.__valores = np.empty(self.__capacidade, dtype=int)\n",
        "\n",
        "  def __pilha_cheia(self):\n",
        "    if self.__topo == self.__capacidade - 1:\n",
        "      return True\n",
        "    else:\n",
        "      return False\n",
        "  \n",
        "  def __pilha_vazia(self):\n",
        "    if self.__topo == -1:\n",
        "      return True\n",
        "    else:\n",
        "      return False\n",
        "  \n",
        "  def empilhar(self, valor):\n",
        "    if self.__pilha_cheia():\n",
        "      print('A pilha está cheia')\n",
        "    else:\n",
        "      self.__topo += 1\n",
        "      self.__valores[self.__topo] = valor\n",
        "\n",
        "  def desempilhar(self):\n",
        "    if self.__pilha_vazia():\n",
        "      print('A pilha está vazia')\n",
        "    else:\n",
        "      self.__topo -= 1\n",
        "\n",
        "  def ver_topo(self):\n",
        "    if self.__topo != -1:\n",
        "      return self.__valores[self.__topo]\n",
        "    else:\n",
        "      return -1"
      ],
      "execution_count": 2,
      "outputs": []
    },
    {
      "cell_type": "code",
      "metadata": {
        "id": "78wJ6iVS-Lft"
      },
      "source": [
        "pilha = Pilha(5)"
      ],
      "execution_count": 3,
      "outputs": []
    },
    {
      "cell_type": "code",
      "metadata": {
        "colab": {
          "base_uri": "https://localhost:8080/"
        },
        "id": "sLm86R1P-OsT",
        "outputId": "0d9013a3-0919-4c88-dba6-1a26e0f68f0b"
      },
      "source": [
        "pilha.ver_topo()"
      ],
      "execution_count": 4,
      "outputs": [
        {
          "output_type": "execute_result",
          "data": {
            "text/plain": [
              "-1"
            ]
          },
          "metadata": {
            "tags": []
          },
          "execution_count": 4
        }
      ]
    },
    {
      "cell_type": "code",
      "metadata": {
        "colab": {
          "base_uri": "https://localhost:8080/"
        },
        "id": "Ly9c2GBNBVVW",
        "outputId": "c4cb21e4-8edb-4a77-bd5c-6c963c1c423e"
      },
      "source": [
        "pilha.empilhar(1)\n",
        "pilha.ver_topo()"
      ],
      "execution_count": 5,
      "outputs": [
        {
          "output_type": "execute_result",
          "data": {
            "text/plain": [
              "1"
            ]
          },
          "metadata": {
            "tags": []
          },
          "execution_count": 5
        }
      ]
    },
    {
      "cell_type": "code",
      "metadata": {
        "id": "Qnn0fbe-DP7D"
      },
      "source": [
        "pilha.empilhar(1)\n",
        "pilha.empilhar(2)\n",
        "pilha.empilhar(3)\n",
        "pilha.empilhar(4)"
      ],
      "execution_count": 6,
      "outputs": []
    },
    {
      "cell_type": "code",
      "metadata": {
        "colab": {
          "base_uri": "https://localhost:8080/"
        },
        "id": "xA4_87wyDSev",
        "outputId": "009b78b1-3598-4c71-9ebe-fea10b27a1e9"
      },
      "source": [
        "pilha.empilhar(6)"
      ],
      "execution_count": 7,
      "outputs": [
        {
          "output_type": "stream",
          "text": [
            "A pilha está cheia\n"
          ],
          "name": "stdout"
        }
      ]
    },
    {
      "cell_type": "code",
      "metadata": {
        "colab": {
          "base_uri": "https://localhost:8080/"
        },
        "id": "HsAbSpOyDT2c",
        "outputId": "8712be80-a07f-44ef-d239-68334ba7c39f"
      },
      "source": [
        "pilha.ver_topo()"
      ],
      "execution_count": 8,
      "outputs": [
        {
          "output_type": "execute_result",
          "data": {
            "text/plain": [
              "4"
            ]
          },
          "metadata": {
            "tags": []
          },
          "execution_count": 8
        }
      ]
    },
    {
      "cell_type": "code",
      "metadata": {
        "id": "rEGtWeFoDVQO"
      },
      "source": [
        "pilha.desempilhar()"
      ],
      "execution_count": 9,
      "outputs": []
    },
    {
      "cell_type": "code",
      "metadata": {
        "id": "adgCGj6nDWzO"
      },
      "source": [
        "pilha.desempilhar()\n",
        "pilha.desempilhar()\n",
        "pilha.desempilhar()"
      ],
      "execution_count": 10,
      "outputs": []
    },
    {
      "cell_type": "code",
      "metadata": {
        "colab": {
          "base_uri": "https://localhost:8080/"
        },
        "id": "CQzphTYoDYDq",
        "outputId": "f283b211-f21f-43ad-c5a7-8c8a8a543004"
      },
      "source": [
        "pilha.ver_topo()"
      ],
      "execution_count": 11,
      "outputs": [
        {
          "output_type": "execute_result",
          "data": {
            "text/plain": [
              "1"
            ]
          },
          "metadata": {
            "tags": []
          },
          "execution_count": 11
        }
      ]
    },
    {
      "cell_type": "code",
      "metadata": {
        "id": "7Srcc3dKDaWt"
      },
      "source": [
        "pilha.desempilhar()"
      ],
      "execution_count": 12,
      "outputs": []
    },
    {
      "cell_type": "code",
      "metadata": {
        "colab": {
          "base_uri": "https://localhost:8080/"
        },
        "id": "-FEI2bARDwI1",
        "outputId": "24465fbe-6a59-4998-c6f0-ac05103a1d13"
      },
      "source": [
        "pilha.ver_topo()"
      ],
      "execution_count": 13,
      "outputs": [
        {
          "output_type": "execute_result",
          "data": {
            "text/plain": [
              "-1"
            ]
          },
          "metadata": {
            "tags": []
          },
          "execution_count": 13
        }
      ]
    },
    {
      "cell_type": "markdown",
      "metadata": {
        "id": "j7ej4cu8EVFu"
      },
      "source": [
        "#Exercício de Validador de Expressões\n",
        "#Aula 69\n",
        "\n",
        "\n",
        "\n",
        "*   Os delimitadores são as chaves {e}, os colchetes [e], e os parênteses (e)\n",
        "*   Cada delimitador de abertura ou à esquerda deve ser casado com um delimitador de fechamento ou à direita.\n",
        "*   Toda { deve ser seguida por uma } que case com ela\n",
        "*   Exemplos: \n",
        "> *   c[d] (correto)\n",
        "> *   a{b[c]d} (correto)\n",
        "> *   a{b(c]d} (incorreto)\n",
        "> *   a{b(c) (incorreto)\n"
      ]
    }
  ]
}